{
  "nbformat": 4,
  "nbformat_minor": 0,
  "metadata": {
    "colab": {
      "provenance": [],
      "authorship_tag": "ABX9TyOOLMg/rEfnySZbdlCmjhSY",
      "include_colab_link": true
    },
    "kernelspec": {
      "name": "python3",
      "display_name": "Python 3"
    },
    "language_info": {
      "name": "python"
    },
    "widgets": {
      "application/vnd.jupyter.widget-state+json": {
        "8b58b77841284a6ba5a2a4ab3186761d": {
          "model_module": "@jupyter-widgets/controls",
          "model_name": "HBoxModel",
          "model_module_version": "1.5.0",
          "state": {
            "_dom_classes": [],
            "_model_module": "@jupyter-widgets/controls",
            "_model_module_version": "1.5.0",
            "_model_name": "HBoxModel",
            "_view_count": null,
            "_view_module": "@jupyter-widgets/controls",
            "_view_module_version": "1.5.0",
            "_view_name": "HBoxView",
            "box_style": "",
            "children": [
              "IPY_MODEL_be51d424208b4c14a9df3214bbc1692b",
              "IPY_MODEL_f28f786663424170ad438150dbb27a76",
              "IPY_MODEL_eef12a1797794d13be109495dde32f0a"
            ],
            "layout": "IPY_MODEL_bf393876e5df4c0eb455d0d27a6e9bbd"
          }
        },
        "be51d424208b4c14a9df3214bbc1692b": {
          "model_module": "@jupyter-widgets/controls",
          "model_name": "HTMLModel",
          "model_module_version": "1.5.0",
          "state": {
            "_dom_classes": [],
            "_model_module": "@jupyter-widgets/controls",
            "_model_module_version": "1.5.0",
            "_model_name": "HTMLModel",
            "_view_count": null,
            "_view_module": "@jupyter-widgets/controls",
            "_view_module_version": "1.5.0",
            "_view_name": "HTMLView",
            "description": "",
            "description_tooltip": null,
            "layout": "IPY_MODEL_093dcb0620074d0f98d10bf8667c5408",
            "placeholder": "​",
            "style": "IPY_MODEL_ac7543925ca04a3bb78766a09ac74ce6",
            "value": "Map: 100%"
          }
        },
        "f28f786663424170ad438150dbb27a76": {
          "model_module": "@jupyter-widgets/controls",
          "model_name": "FloatProgressModel",
          "model_module_version": "1.5.0",
          "state": {
            "_dom_classes": [],
            "_model_module": "@jupyter-widgets/controls",
            "_model_module_version": "1.5.0",
            "_model_name": "FloatProgressModel",
            "_view_count": null,
            "_view_module": "@jupyter-widgets/controls",
            "_view_module_version": "1.5.0",
            "_view_name": "ProgressView",
            "bar_style": "success",
            "description": "",
            "description_tooltip": null,
            "layout": "IPY_MODEL_ece3cb1720284a2092e8803bcab1c073",
            "max": 83448,
            "min": 0,
            "orientation": "horizontal",
            "style": "IPY_MODEL_cdc50261e28443238bc0610d0683e579",
            "value": 83448
          }
        },
        "eef12a1797794d13be109495dde32f0a": {
          "model_module": "@jupyter-widgets/controls",
          "model_name": "HTMLModel",
          "model_module_version": "1.5.0",
          "state": {
            "_dom_classes": [],
            "_model_module": "@jupyter-widgets/controls",
            "_model_module_version": "1.5.0",
            "_model_name": "HTMLModel",
            "_view_count": null,
            "_view_module": "@jupyter-widgets/controls",
            "_view_module_version": "1.5.0",
            "_view_name": "HTMLView",
            "description": "",
            "description_tooltip": null,
            "layout": "IPY_MODEL_b5c04272065e47f3a78def34e943f442",
            "placeholder": "​",
            "style": "IPY_MODEL_d61dcc0f06a3491f9c7811d0cd3d6324",
            "value": " 83448/83448 [02:25&lt;00:00, 662.84 examples/s]"
          }
        },
        "bf393876e5df4c0eb455d0d27a6e9bbd": {
          "model_module": "@jupyter-widgets/base",
          "model_name": "LayoutModel",
          "model_module_version": "1.2.0",
          "state": {
            "_model_module": "@jupyter-widgets/base",
            "_model_module_version": "1.2.0",
            "_model_name": "LayoutModel",
            "_view_count": null,
            "_view_module": "@jupyter-widgets/base",
            "_view_module_version": "1.2.0",
            "_view_name": "LayoutView",
            "align_content": null,
            "align_items": null,
            "align_self": null,
            "border": null,
            "bottom": null,
            "display": null,
            "flex": null,
            "flex_flow": null,
            "grid_area": null,
            "grid_auto_columns": null,
            "grid_auto_flow": null,
            "grid_auto_rows": null,
            "grid_column": null,
            "grid_gap": null,
            "grid_row": null,
            "grid_template_areas": null,
            "grid_template_columns": null,
            "grid_template_rows": null,
            "height": null,
            "justify_content": null,
            "justify_items": null,
            "left": null,
            "margin": null,
            "max_height": null,
            "max_width": null,
            "min_height": null,
            "min_width": null,
            "object_fit": null,
            "object_position": null,
            "order": null,
            "overflow": null,
            "overflow_x": null,
            "overflow_y": null,
            "padding": null,
            "right": null,
            "top": null,
            "visibility": null,
            "width": null
          }
        },
        "093dcb0620074d0f98d10bf8667c5408": {
          "model_module": "@jupyter-widgets/base",
          "model_name": "LayoutModel",
          "model_module_version": "1.2.0",
          "state": {
            "_model_module": "@jupyter-widgets/base",
            "_model_module_version": "1.2.0",
            "_model_name": "LayoutModel",
            "_view_count": null,
            "_view_module": "@jupyter-widgets/base",
            "_view_module_version": "1.2.0",
            "_view_name": "LayoutView",
            "align_content": null,
            "align_items": null,
            "align_self": null,
            "border": null,
            "bottom": null,
            "display": null,
            "flex": null,
            "flex_flow": null,
            "grid_area": null,
            "grid_auto_columns": null,
            "grid_auto_flow": null,
            "grid_auto_rows": null,
            "grid_column": null,
            "grid_gap": null,
            "grid_row": null,
            "grid_template_areas": null,
            "grid_template_columns": null,
            "grid_template_rows": null,
            "height": null,
            "justify_content": null,
            "justify_items": null,
            "left": null,
            "margin": null,
            "max_height": null,
            "max_width": null,
            "min_height": null,
            "min_width": null,
            "object_fit": null,
            "object_position": null,
            "order": null,
            "overflow": null,
            "overflow_x": null,
            "overflow_y": null,
            "padding": null,
            "right": null,
            "top": null,
            "visibility": null,
            "width": null
          }
        },
        "ac7543925ca04a3bb78766a09ac74ce6": {
          "model_module": "@jupyter-widgets/controls",
          "model_name": "DescriptionStyleModel",
          "model_module_version": "1.5.0",
          "state": {
            "_model_module": "@jupyter-widgets/controls",
            "_model_module_version": "1.5.0",
            "_model_name": "DescriptionStyleModel",
            "_view_count": null,
            "_view_module": "@jupyter-widgets/base",
            "_view_module_version": "1.2.0",
            "_view_name": "StyleView",
            "description_width": ""
          }
        },
        "ece3cb1720284a2092e8803bcab1c073": {
          "model_module": "@jupyter-widgets/base",
          "model_name": "LayoutModel",
          "model_module_version": "1.2.0",
          "state": {
            "_model_module": "@jupyter-widgets/base",
            "_model_module_version": "1.2.0",
            "_model_name": "LayoutModel",
            "_view_count": null,
            "_view_module": "@jupyter-widgets/base",
            "_view_module_version": "1.2.0",
            "_view_name": "LayoutView",
            "align_content": null,
            "align_items": null,
            "align_self": null,
            "border": null,
            "bottom": null,
            "display": null,
            "flex": null,
            "flex_flow": null,
            "grid_area": null,
            "grid_auto_columns": null,
            "grid_auto_flow": null,
            "grid_auto_rows": null,
            "grid_column": null,
            "grid_gap": null,
            "grid_row": null,
            "grid_template_areas": null,
            "grid_template_columns": null,
            "grid_template_rows": null,
            "height": null,
            "justify_content": null,
            "justify_items": null,
            "left": null,
            "margin": null,
            "max_height": null,
            "max_width": null,
            "min_height": null,
            "min_width": null,
            "object_fit": null,
            "object_position": null,
            "order": null,
            "overflow": null,
            "overflow_x": null,
            "overflow_y": null,
            "padding": null,
            "right": null,
            "top": null,
            "visibility": null,
            "width": null
          }
        },
        "cdc50261e28443238bc0610d0683e579": {
          "model_module": "@jupyter-widgets/controls",
          "model_name": "ProgressStyleModel",
          "model_module_version": "1.5.0",
          "state": {
            "_model_module": "@jupyter-widgets/controls",
            "_model_module_version": "1.5.0",
            "_model_name": "ProgressStyleModel",
            "_view_count": null,
            "_view_module": "@jupyter-widgets/base",
            "_view_module_version": "1.2.0",
            "_view_name": "StyleView",
            "bar_color": null,
            "description_width": ""
          }
        },
        "b5c04272065e47f3a78def34e943f442": {
          "model_module": "@jupyter-widgets/base",
          "model_name": "LayoutModel",
          "model_module_version": "1.2.0",
          "state": {
            "_model_module": "@jupyter-widgets/base",
            "_model_module_version": "1.2.0",
            "_model_name": "LayoutModel",
            "_view_count": null,
            "_view_module": "@jupyter-widgets/base",
            "_view_module_version": "1.2.0",
            "_view_name": "LayoutView",
            "align_content": null,
            "align_items": null,
            "align_self": null,
            "border": null,
            "bottom": null,
            "display": null,
            "flex": null,
            "flex_flow": null,
            "grid_area": null,
            "grid_auto_columns": null,
            "grid_auto_flow": null,
            "grid_auto_rows": null,
            "grid_column": null,
            "grid_gap": null,
            "grid_row": null,
            "grid_template_areas": null,
            "grid_template_columns": null,
            "grid_template_rows": null,
            "height": null,
            "justify_content": null,
            "justify_items": null,
            "left": null,
            "margin": null,
            "max_height": null,
            "max_width": null,
            "min_height": null,
            "min_width": null,
            "object_fit": null,
            "object_position": null,
            "order": null,
            "overflow": null,
            "overflow_x": null,
            "overflow_y": null,
            "padding": null,
            "right": null,
            "top": null,
            "visibility": null,
            "width": null
          }
        },
        "d61dcc0f06a3491f9c7811d0cd3d6324": {
          "model_module": "@jupyter-widgets/controls",
          "model_name": "DescriptionStyleModel",
          "model_module_version": "1.5.0",
          "state": {
            "_model_module": "@jupyter-widgets/controls",
            "_model_module_version": "1.5.0",
            "_model_name": "DescriptionStyleModel",
            "_view_count": null,
            "_view_module": "@jupyter-widgets/base",
            "_view_module_version": "1.2.0",
            "_view_name": "StyleView",
            "description_width": ""
          }
        }
      }
    }
  },
  "cells": [
    {
      "cell_type": "markdown",
      "metadata": {
        "id": "view-in-github",
        "colab_type": "text"
      },
      "source": [
        "<a href=\"https://colab.research.google.com/github/shekhawatmeenu18/NLP_Projects/blob/main/Spam_detection_ALBERT.ipynb\" target=\"_parent\"><img src=\"https://colab.research.google.com/assets/colab-badge.svg\" alt=\"Open In Colab\"/></a>"
      ]
    },
    {
      "cell_type": "code",
      "source": [
        "!pip install datasets"
      ],
      "metadata": {
        "colab": {
          "base_uri": "https://localhost:8080/",
          "height": 1000
        },
        "collapsed": true,
        "id": "No0UO96wtnRy",
        "outputId": "46e1755c-2553-4580-8b91-16bf4d95f38e"
      },
      "execution_count": 3,
      "outputs": [
        {
          "output_type": "stream",
          "name": "stdout",
          "text": [
            "Collecting datasets\n",
            "  Downloading datasets-2.20.0-py3-none-any.whl (547 kB)\n",
            "\u001b[2K     \u001b[90m━━━━━━━━━━━━━━━━━━━━━━━━━━━━━━━━━━━━━━━━\u001b[0m \u001b[32m547.8/547.8 kB\u001b[0m \u001b[31m4.7 MB/s\u001b[0m eta \u001b[36m0:00:00\u001b[0m\n",
            "\u001b[?25hRequirement already satisfied: filelock in /usr/local/lib/python3.10/dist-packages (from datasets) (3.14.0)\n",
            "Requirement already satisfied: numpy>=1.17 in /usr/local/lib/python3.10/dist-packages (from datasets) (1.25.2)\n",
            "Collecting pyarrow>=15.0.0 (from datasets)\n",
            "  Downloading pyarrow-16.1.0-cp310-cp310-manylinux_2_28_x86_64.whl (40.8 MB)\n",
            "\u001b[2K     \u001b[90m━━━━━━━━━━━━━━━━━━━━━━━━━━━━━━━━━━━━━━━━\u001b[0m \u001b[32m40.8/40.8 MB\u001b[0m \u001b[31m10.2 MB/s\u001b[0m eta \u001b[36m0:00:00\u001b[0m\n",
            "\u001b[?25hRequirement already satisfied: pyarrow-hotfix in /usr/local/lib/python3.10/dist-packages (from datasets) (0.6)\n",
            "Collecting dill<0.3.9,>=0.3.0 (from datasets)\n",
            "  Downloading dill-0.3.8-py3-none-any.whl (116 kB)\n",
            "\u001b[2K     \u001b[90m━━━━━━━━━━━━━━━━━━━━━━━━━━━━━━━━━━━━━━━━\u001b[0m \u001b[32m116.3/116.3 kB\u001b[0m \u001b[31m10.8 MB/s\u001b[0m eta \u001b[36m0:00:00\u001b[0m\n",
            "\u001b[?25hRequirement already satisfied: pandas in /usr/local/lib/python3.10/dist-packages (from datasets) (2.0.3)\n",
            "Collecting requests>=2.32.2 (from datasets)\n",
            "  Downloading requests-2.32.3-py3-none-any.whl (64 kB)\n",
            "\u001b[2K     \u001b[90m━━━━━━━━━━━━━━━━━━━━━━━━━━━━━━━━━━━━━━━━\u001b[0m \u001b[32m64.9/64.9 kB\u001b[0m \u001b[31m5.2 MB/s\u001b[0m eta \u001b[36m0:00:00\u001b[0m\n",
            "\u001b[?25hRequirement already satisfied: tqdm>=4.66.3 in /usr/local/lib/python3.10/dist-packages (from datasets) (4.66.4)\n",
            "Collecting xxhash (from datasets)\n",
            "  Downloading xxhash-3.4.1-cp310-cp310-manylinux_2_17_x86_64.manylinux2014_x86_64.whl (194 kB)\n",
            "\u001b[2K     \u001b[90m━━━━━━━━━━━━━━━━━━━━━━━━━━━━━━━━━━━━━━━━\u001b[0m \u001b[32m194.1/194.1 kB\u001b[0m \u001b[31m12.5 MB/s\u001b[0m eta \u001b[36m0:00:00\u001b[0m\n",
            "\u001b[?25hCollecting multiprocess (from datasets)\n",
            "  Downloading multiprocess-0.70.16-py310-none-any.whl (134 kB)\n",
            "\u001b[2K     \u001b[90m━━━━━━━━━━━━━━━━━━━━━━━━━━━━━━━━━━━━━━━━\u001b[0m \u001b[32m134.8/134.8 kB\u001b[0m \u001b[31m11.8 MB/s\u001b[0m eta \u001b[36m0:00:00\u001b[0m\n",
            "\u001b[?25hRequirement already satisfied: fsspec[http]<=2024.5.0,>=2023.1.0 in /usr/local/lib/python3.10/dist-packages (from datasets) (2023.6.0)\n",
            "Requirement already satisfied: aiohttp in /usr/local/lib/python3.10/dist-packages (from datasets) (3.9.5)\n",
            "Requirement already satisfied: huggingface-hub>=0.21.2 in /usr/local/lib/python3.10/dist-packages (from datasets) (0.23.3)\n",
            "Requirement already satisfied: packaging in /usr/local/lib/python3.10/dist-packages (from datasets) (24.1)\n",
            "Requirement already satisfied: pyyaml>=5.1 in /usr/local/lib/python3.10/dist-packages (from datasets) (6.0.1)\n",
            "Requirement already satisfied: aiosignal>=1.1.2 in /usr/local/lib/python3.10/dist-packages (from aiohttp->datasets) (1.3.1)\n",
            "Requirement already satisfied: attrs>=17.3.0 in /usr/local/lib/python3.10/dist-packages (from aiohttp->datasets) (23.2.0)\n",
            "Requirement already satisfied: frozenlist>=1.1.1 in /usr/local/lib/python3.10/dist-packages (from aiohttp->datasets) (1.4.1)\n",
            "Requirement already satisfied: multidict<7.0,>=4.5 in /usr/local/lib/python3.10/dist-packages (from aiohttp->datasets) (6.0.5)\n",
            "Requirement already satisfied: yarl<2.0,>=1.0 in /usr/local/lib/python3.10/dist-packages (from aiohttp->datasets) (1.9.4)\n",
            "Requirement already satisfied: async-timeout<5.0,>=4.0 in /usr/local/lib/python3.10/dist-packages (from aiohttp->datasets) (4.0.3)\n",
            "Requirement already satisfied: typing-extensions>=3.7.4.3 in /usr/local/lib/python3.10/dist-packages (from huggingface-hub>=0.21.2->datasets) (4.12.2)\n",
            "Requirement already satisfied: charset-normalizer<4,>=2 in /usr/local/lib/python3.10/dist-packages (from requests>=2.32.2->datasets) (3.3.2)\n",
            "Requirement already satisfied: idna<4,>=2.5 in /usr/local/lib/python3.10/dist-packages (from requests>=2.32.2->datasets) (3.7)\n",
            "Requirement already satisfied: urllib3<3,>=1.21.1 in /usr/local/lib/python3.10/dist-packages (from requests>=2.32.2->datasets) (2.0.7)\n",
            "Requirement already satisfied: certifi>=2017.4.17 in /usr/local/lib/python3.10/dist-packages (from requests>=2.32.2->datasets) (2024.6.2)\n",
            "Requirement already satisfied: python-dateutil>=2.8.2 in /usr/local/lib/python3.10/dist-packages (from pandas->datasets) (2.8.2)\n",
            "Requirement already satisfied: pytz>=2020.1 in /usr/local/lib/python3.10/dist-packages (from pandas->datasets) (2023.4)\n",
            "Requirement already satisfied: tzdata>=2022.1 in /usr/local/lib/python3.10/dist-packages (from pandas->datasets) (2024.1)\n",
            "Requirement already satisfied: six>=1.5 in /usr/local/lib/python3.10/dist-packages (from python-dateutil>=2.8.2->pandas->datasets) (1.16.0)\n",
            "Installing collected packages: xxhash, requests, pyarrow, dill, multiprocess, datasets\n",
            "  Attempting uninstall: requests\n",
            "    Found existing installation: requests 2.31.0\n",
            "    Uninstalling requests-2.31.0:\n",
            "      Successfully uninstalled requests-2.31.0\n",
            "  Attempting uninstall: pyarrow\n",
            "    Found existing installation: pyarrow 14.0.2\n",
            "    Uninstalling pyarrow-14.0.2:\n",
            "      Successfully uninstalled pyarrow-14.0.2\n",
            "\u001b[31mERROR: pip's dependency resolver does not currently take into account all the packages that are installed. This behaviour is the source of the following dependency conflicts.\n",
            "cudf-cu12 24.4.1 requires pyarrow<15.0.0a0,>=14.0.1, but you have pyarrow 16.1.0 which is incompatible.\n",
            "google-colab 1.0.0 requires requests==2.31.0, but you have requests 2.32.3 which is incompatible.\n",
            "ibis-framework 8.0.0 requires pyarrow<16,>=2, but you have pyarrow 16.1.0 which is incompatible.\u001b[0m\u001b[31m\n",
            "\u001b[0mSuccessfully installed datasets-2.20.0 dill-0.3.8 multiprocess-0.70.16 pyarrow-16.1.0 requests-2.32.3 xxhash-3.4.1\n"
          ]
        },
        {
          "output_type": "display_data",
          "data": {
            "application/vnd.colab-display-data+json": {
              "pip_warning": {
                "packages": [
                  "pyarrow",
                  "requests"
                ]
              },
              "id": "b0c8202efa6147e5a456ab3595e2a91b"
            }
          },
          "metadata": {}
        }
      ]
    },
    {
      "cell_type": "code",
      "execution_count": 1,
      "metadata": {
        "id": "qIPX_DMGtZwU"
      },
      "outputs": [],
      "source": [
        "import warnings\n",
        "warnings.filterwarnings(\"ignore\")\n",
        "from bs4 import BeautifulSoup  ## For cleaning the data\n",
        "import re\n",
        "\n",
        "import torch\n",
        "from transformers import AutoModel, AutoTokenizer, AlbertForSequenceClassification, Trainer, TrainingArguments,EarlyStoppingCallback\n",
        "from datasets import Dataset"
      ]
    },
    {
      "cell_type": "code",
      "source": [
        "import numpy as np\n",
        "import pandas as pd\n",
        "import os\n",
        "import json"
      ],
      "metadata": {
        "id": "lc8xBnnhuKgg"
      },
      "execution_count": 2,
      "outputs": []
    },
    {
      "cell_type": "code",
      "source": [
        "# # Upload the kaggle.json file\n",
        "# from google.colab import files\n",
        "# files.upload()\n",
        "\n",
        "# # Move the kaggle.json file to the .kaggle directory\n",
        "# !mkdir -p ~/.kaggle\n",
        "# !cp kaggle.json ~/.kaggle/\n",
        "# !chmod 600 ~/.kaggle/kaggle.json\n",
        "\n",
        "# # Load the API key and username from the file\n",
        "# with open('/root/.kaggle/kaggle.json', 'r') as f:\n",
        "#     kaggle_data = json.load(f)\n",
        "\n",
        "# os.environ[\"KAGGLE_KEY\"] = kaggle_data[\"key\"]\n",
        "# os.environ[\"KAGGLE_USERNAME\"] = kaggle_data[\"username\"]\n",
        "\n",
        "# !kaggle datasets list\n",
        "\n",
        "# !kaggle datasets download -d /kaggle/input/email-spam-classification-dataset/combined_data.csv"
      ],
      "metadata": {
        "id": "s7r4CiCbucGw"
      },
      "execution_count": 9,
      "outputs": []
    },
    {
      "cell_type": "code",
      "source": [
        "# for dirname, _, filenames in os.walk('/content'):\n",
        "#     for filename in filenames:\n",
        "#         print(os.path.join(dirname, filename))"
      ],
      "metadata": {
        "colab": {
          "base_uri": "https://localhost:8080/"
        },
        "collapsed": true,
        "id": "xTcrb2tZ6Vfq",
        "outputId": "b18eee86-afce-4bc6-c0a7-ab24a5184954"
      },
      "execution_count": 5,
      "outputs": [
        {
          "output_type": "stream",
          "name": "stdout",
          "text": [
            "/content/combined_data.csv.zip\n",
            "/content/.config/active_config\n",
            "/content/.config/config_sentinel\n",
            "/content/.config/gce\n",
            "/content/.config/default_configs.db\n",
            "/content/.config/.last_update_check.json\n",
            "/content/.config/.last_survey_prompt.yaml\n",
            "/content/.config/.last_opt_in_prompt.yaml\n",
            "/content/.config/configurations/config_default\n",
            "/content/.config/logs/2024.06.12/18.21.44.115760.log\n",
            "/content/.config/logs/2024.06.12/18.21.56.470820.log\n",
            "/content/.config/logs/2024.06.12/18.21.35.197821.log\n",
            "/content/.config/logs/2024.06.12/18.21.55.790625.log\n",
            "/content/.config/logs/2024.06.12/18.20.59.291508.log\n",
            "/content/.config/logs/2024.06.12/18.21.24.034464.log\n",
            "/content/sample_data/README.md\n",
            "/content/sample_data/anscombe.json\n",
            "/content/sample_data/mnist_test.csv\n",
            "/content/sample_data/mnist_train_small.csv\n",
            "/content/sample_data/california_housing_train.csv\n",
            "/content/sample_data/california_housing_test.csv\n"
          ]
        }
      ]
    },
    {
      "cell_type": "code",
      "source": [
        "path = '/content/combined_data.csv'\n",
        "data = pd.read_csv(path)\n",
        "data.shape"
      ],
      "metadata": {
        "colab": {
          "base_uri": "https://localhost:8080/"
        },
        "collapsed": true,
        "id": "gQyvGys21UwP",
        "outputId": "786c2939-8597-4c79-f948-c15b224712f8"
      },
      "execution_count": 3,
      "outputs": [
        {
          "output_type": "execute_result",
          "data": {
            "text/plain": [
              "(83448, 3)"
            ]
          },
          "metadata": {},
          "execution_count": 3
        }
      ]
    },
    {
      "cell_type": "code",
      "source": [
        "#  data.to_csv(\"combined_data.csv\")"
      ],
      "metadata": {
        "id": "cURD6jg2ABie"
      },
      "execution_count": 7,
      "outputs": []
    },
    {
      "cell_type": "code",
      "source": [
        "data.sample(5).T"
      ],
      "metadata": {
        "colab": {
          "base_uri": "https://localhost:8080/",
          "height": 178
        },
        "id": "YZaAQTTg__yv",
        "outputId": "b34a2e28-40ca-404e-a049-c09e100daf74"
      },
      "execution_count": 4,
      "outputs": [
        {
          "output_type": "execute_result",
          "data": {
            "text/plain": [
              "                                                        480    \\\n",
              "Unnamed: 0                                                480   \n",
              "label                                                       1   \n",
              "text        + unable to see graphics ? please go here to v...   \n",
              "\n",
              "                                                        81364  \\\n",
              "Unnamed: 0                                              81364   \n",
              "label                                                       0   \n",
              "text         track manage your source code and digital ass...   \n",
              "\n",
              "                                                        53926  \\\n",
              "Unnamed: 0                                              53926   \n",
              "label                                                       0   \n",
              "text        the drn number assigned is : 291037 . sorry i ...   \n",
              "\n",
              "                                                        68138  \\\n",
              "Unnamed: 0                                              68138   \n",
              "label                                                       1   \n",
              "text        your membership exchange , issue # 442\\naugust...   \n",
              "\n",
              "                                                        11869  \n",
              "Unnamed: 0                                              11869  \n",
              "label                                                       1  \n",
              "text        working on your company ' s image ? start with...  "
            ],
            "text/html": [
              "\n",
              "  <div id=\"df-060f5497-e735-44dd-a44f-af69b305c396\" class=\"colab-df-container\">\n",
              "    <div>\n",
              "<style scoped>\n",
              "    .dataframe tbody tr th:only-of-type {\n",
              "        vertical-align: middle;\n",
              "    }\n",
              "\n",
              "    .dataframe tbody tr th {\n",
              "        vertical-align: top;\n",
              "    }\n",
              "\n",
              "    .dataframe thead th {\n",
              "        text-align: right;\n",
              "    }\n",
              "</style>\n",
              "<table border=\"1\" class=\"dataframe\">\n",
              "  <thead>\n",
              "    <tr style=\"text-align: right;\">\n",
              "      <th></th>\n",
              "      <th>480</th>\n",
              "      <th>81364</th>\n",
              "      <th>53926</th>\n",
              "      <th>68138</th>\n",
              "      <th>11869</th>\n",
              "    </tr>\n",
              "  </thead>\n",
              "  <tbody>\n",
              "    <tr>\n",
              "      <th>Unnamed: 0</th>\n",
              "      <td>480</td>\n",
              "      <td>81364</td>\n",
              "      <td>53926</td>\n",
              "      <td>68138</td>\n",
              "      <td>11869</td>\n",
              "    </tr>\n",
              "    <tr>\n",
              "      <th>label</th>\n",
              "      <td>1</td>\n",
              "      <td>0</td>\n",
              "      <td>0</td>\n",
              "      <td>1</td>\n",
              "      <td>1</td>\n",
              "    </tr>\n",
              "    <tr>\n",
              "      <th>text</th>\n",
              "      <td>+ unable to see graphics ? please go here to v...</td>\n",
              "      <td>track manage your source code and digital ass...</td>\n",
              "      <td>the drn number assigned is : 291037 . sorry i ...</td>\n",
              "      <td>your membership exchange , issue # 442\\naugust...</td>\n",
              "      <td>working on your company ' s image ? start with...</td>\n",
              "    </tr>\n",
              "  </tbody>\n",
              "</table>\n",
              "</div>\n",
              "    <div class=\"colab-df-buttons\">\n",
              "\n",
              "  <div class=\"colab-df-container\">\n",
              "    <button class=\"colab-df-convert\" onclick=\"convertToInteractive('df-060f5497-e735-44dd-a44f-af69b305c396')\"\n",
              "            title=\"Convert this dataframe to an interactive table.\"\n",
              "            style=\"display:none;\">\n",
              "\n",
              "  <svg xmlns=\"http://www.w3.org/2000/svg\" height=\"24px\" viewBox=\"0 -960 960 960\">\n",
              "    <path d=\"M120-120v-720h720v720H120Zm60-500h600v-160H180v160Zm220 220h160v-160H400v160Zm0 220h160v-160H400v160ZM180-400h160v-160H180v160Zm440 0h160v-160H620v160ZM180-180h160v-160H180v160Zm440 0h160v-160H620v160Z\"/>\n",
              "  </svg>\n",
              "    </button>\n",
              "\n",
              "  <style>\n",
              "    .colab-df-container {\n",
              "      display:flex;\n",
              "      gap: 12px;\n",
              "    }\n",
              "\n",
              "    .colab-df-convert {\n",
              "      background-color: #E8F0FE;\n",
              "      border: none;\n",
              "      border-radius: 50%;\n",
              "      cursor: pointer;\n",
              "      display: none;\n",
              "      fill: #1967D2;\n",
              "      height: 32px;\n",
              "      padding: 0 0 0 0;\n",
              "      width: 32px;\n",
              "    }\n",
              "\n",
              "    .colab-df-convert:hover {\n",
              "      background-color: #E2EBFA;\n",
              "      box-shadow: 0px 1px 2px rgba(60, 64, 67, 0.3), 0px 1px 3px 1px rgba(60, 64, 67, 0.15);\n",
              "      fill: #174EA6;\n",
              "    }\n",
              "\n",
              "    .colab-df-buttons div {\n",
              "      margin-bottom: 4px;\n",
              "    }\n",
              "\n",
              "    [theme=dark] .colab-df-convert {\n",
              "      background-color: #3B4455;\n",
              "      fill: #D2E3FC;\n",
              "    }\n",
              "\n",
              "    [theme=dark] .colab-df-convert:hover {\n",
              "      background-color: #434B5C;\n",
              "      box-shadow: 0px 1px 3px 1px rgba(0, 0, 0, 0.15);\n",
              "      filter: drop-shadow(0px 1px 2px rgba(0, 0, 0, 0.3));\n",
              "      fill: #FFFFFF;\n",
              "    }\n",
              "  </style>\n",
              "\n",
              "    <script>\n",
              "      const buttonEl =\n",
              "        document.querySelector('#df-060f5497-e735-44dd-a44f-af69b305c396 button.colab-df-convert');\n",
              "      buttonEl.style.display =\n",
              "        google.colab.kernel.accessAllowed ? 'block' : 'none';\n",
              "\n",
              "      async function convertToInteractive(key) {\n",
              "        const element = document.querySelector('#df-060f5497-e735-44dd-a44f-af69b305c396');\n",
              "        const dataTable =\n",
              "          await google.colab.kernel.invokeFunction('convertToInteractive',\n",
              "                                                    [key], {});\n",
              "        if (!dataTable) return;\n",
              "\n",
              "        const docLinkHtml = 'Like what you see? Visit the ' +\n",
              "          '<a target=\"_blank\" href=https://colab.research.google.com/notebooks/data_table.ipynb>data table notebook</a>'\n",
              "          + ' to learn more about interactive tables.';\n",
              "        element.innerHTML = '';\n",
              "        dataTable['output_type'] = 'display_data';\n",
              "        await google.colab.output.renderOutput(dataTable, element);\n",
              "        const docLink = document.createElement('div');\n",
              "        docLink.innerHTML = docLinkHtml;\n",
              "        element.appendChild(docLink);\n",
              "      }\n",
              "    </script>\n",
              "  </div>\n",
              "\n",
              "\n",
              "<div id=\"df-7ad3a4b2-53c6-434c-8a06-97927131b593\">\n",
              "  <button class=\"colab-df-quickchart\" onclick=\"quickchart('df-7ad3a4b2-53c6-434c-8a06-97927131b593')\"\n",
              "            title=\"Suggest charts\"\n",
              "            style=\"display:none;\">\n",
              "\n",
              "<svg xmlns=\"http://www.w3.org/2000/svg\" height=\"24px\"viewBox=\"0 0 24 24\"\n",
              "     width=\"24px\">\n",
              "    <g>\n",
              "        <path d=\"M19 3H5c-1.1 0-2 .9-2 2v14c0 1.1.9 2 2 2h14c1.1 0 2-.9 2-2V5c0-1.1-.9-2-2-2zM9 17H7v-7h2v7zm4 0h-2V7h2v10zm4 0h-2v-4h2v4z\"/>\n",
              "    </g>\n",
              "</svg>\n",
              "  </button>\n",
              "\n",
              "<style>\n",
              "  .colab-df-quickchart {\n",
              "      --bg-color: #E8F0FE;\n",
              "      --fill-color: #1967D2;\n",
              "      --hover-bg-color: #E2EBFA;\n",
              "      --hover-fill-color: #174EA6;\n",
              "      --disabled-fill-color: #AAA;\n",
              "      --disabled-bg-color: #DDD;\n",
              "  }\n",
              "\n",
              "  [theme=dark] .colab-df-quickchart {\n",
              "      --bg-color: #3B4455;\n",
              "      --fill-color: #D2E3FC;\n",
              "      --hover-bg-color: #434B5C;\n",
              "      --hover-fill-color: #FFFFFF;\n",
              "      --disabled-bg-color: #3B4455;\n",
              "      --disabled-fill-color: #666;\n",
              "  }\n",
              "\n",
              "  .colab-df-quickchart {\n",
              "    background-color: var(--bg-color);\n",
              "    border: none;\n",
              "    border-radius: 50%;\n",
              "    cursor: pointer;\n",
              "    display: none;\n",
              "    fill: var(--fill-color);\n",
              "    height: 32px;\n",
              "    padding: 0;\n",
              "    width: 32px;\n",
              "  }\n",
              "\n",
              "  .colab-df-quickchart:hover {\n",
              "    background-color: var(--hover-bg-color);\n",
              "    box-shadow: 0 1px 2px rgba(60, 64, 67, 0.3), 0 1px 3px 1px rgba(60, 64, 67, 0.15);\n",
              "    fill: var(--button-hover-fill-color);\n",
              "  }\n",
              "\n",
              "  .colab-df-quickchart-complete:disabled,\n",
              "  .colab-df-quickchart-complete:disabled:hover {\n",
              "    background-color: var(--disabled-bg-color);\n",
              "    fill: var(--disabled-fill-color);\n",
              "    box-shadow: none;\n",
              "  }\n",
              "\n",
              "  .colab-df-spinner {\n",
              "    border: 2px solid var(--fill-color);\n",
              "    border-color: transparent;\n",
              "    border-bottom-color: var(--fill-color);\n",
              "    animation:\n",
              "      spin 1s steps(1) infinite;\n",
              "  }\n",
              "\n",
              "  @keyframes spin {\n",
              "    0% {\n",
              "      border-color: transparent;\n",
              "      border-bottom-color: var(--fill-color);\n",
              "      border-left-color: var(--fill-color);\n",
              "    }\n",
              "    20% {\n",
              "      border-color: transparent;\n",
              "      border-left-color: var(--fill-color);\n",
              "      border-top-color: var(--fill-color);\n",
              "    }\n",
              "    30% {\n",
              "      border-color: transparent;\n",
              "      border-left-color: var(--fill-color);\n",
              "      border-top-color: var(--fill-color);\n",
              "      border-right-color: var(--fill-color);\n",
              "    }\n",
              "    40% {\n",
              "      border-color: transparent;\n",
              "      border-right-color: var(--fill-color);\n",
              "      border-top-color: var(--fill-color);\n",
              "    }\n",
              "    60% {\n",
              "      border-color: transparent;\n",
              "      border-right-color: var(--fill-color);\n",
              "    }\n",
              "    80% {\n",
              "      border-color: transparent;\n",
              "      border-right-color: var(--fill-color);\n",
              "      border-bottom-color: var(--fill-color);\n",
              "    }\n",
              "    90% {\n",
              "      border-color: transparent;\n",
              "      border-bottom-color: var(--fill-color);\n",
              "    }\n",
              "  }\n",
              "</style>\n",
              "\n",
              "  <script>\n",
              "    async function quickchart(key) {\n",
              "      const quickchartButtonEl =\n",
              "        document.querySelector('#' + key + ' button');\n",
              "      quickchartButtonEl.disabled = true;  // To prevent multiple clicks.\n",
              "      quickchartButtonEl.classList.add('colab-df-spinner');\n",
              "      try {\n",
              "        const charts = await google.colab.kernel.invokeFunction(\n",
              "            'suggestCharts', [key], {});\n",
              "      } catch (error) {\n",
              "        console.error('Error during call to suggestCharts:', error);\n",
              "      }\n",
              "      quickchartButtonEl.classList.remove('colab-df-spinner');\n",
              "      quickchartButtonEl.classList.add('colab-df-quickchart-complete');\n",
              "    }\n",
              "    (() => {\n",
              "      let quickchartButtonEl =\n",
              "        document.querySelector('#df-7ad3a4b2-53c6-434c-8a06-97927131b593 button');\n",
              "      quickchartButtonEl.style.display =\n",
              "        google.colab.kernel.accessAllowed ? 'block' : 'none';\n",
              "    })();\n",
              "  </script>\n",
              "</div>\n",
              "\n",
              "    </div>\n",
              "  </div>\n"
            ],
            "application/vnd.google.colaboratory.intrinsic+json": {
              "type": "dataframe",
              "summary": "{\n  \"name\": \"data\",\n  \"rows\": 3,\n  \"fields\": [\n    {\n      \"column\": 480,\n      \"properties\": {\n        \"dtype\": \"string\",\n        \"num_unique_values\": 3,\n        \"samples\": [\n          480,\n          1,\n          \"+ unable to see graphics ? please go here to view this email . +\\nbait - excelled @ em . cao 6065098 - 6548 march 18 , 2005\\nbait - excelled @ em . ca ,\\nwe ' ve found someone\\n+ + + + +\\nthe preceding advertisement was sent from jumpstartlovelife . com .\\nif you would like to stop receiving advertisements from jumpstartlovelife . com in the future , please\\n+ + + + +\\n\"\n        ],\n        \"semantic_type\": \"\",\n        \"description\": \"\"\n      }\n    },\n    {\n      \"column\": 81364,\n      \"properties\": {\n        \"dtype\": \"string\",\n        \"num_unique_values\": 3,\n        \"samples\": [\n          81364,\n          0,\n          \" track manage your source code and digital assets for free with perforce discover how you can manage your source code and digital assets faster and easier with perforce perforce offers visual client interfaces for linux com mac solairs freebsd and windows learn more and get a free two user download http sel as us falkag net sel cmd lnk kid escapenumber bid escapenumber dat escapenumber opt escapenumber rdm timestamp slashdot daily newsletter in this issue judge deals blow to riaa google's new lobbying power in washington scientists move closer to human therapeutic cloning faa plans to clean up the skies microsoft flip flopping on virtualization license the privacy of email osi to crack down on open source abusers inkjet printers lying or just wrong ao rating basically bans manhunt escapenumber from release innovation's role is sorely exaggerated sourceforge's hottest five apps proposed amendment would ban all dvd copying faster and open access to scientific results iphone's mystery app is h escapenumber youtube canadian politicians demand dmca emi says itms drm free music selling well mandriva says no to microsoft linux deal pirate bay launches uncensored image hosting subcommittee stops human mars mission spending at t gears up for the iphone peer review starts for software patents e voting report finds problems with modern elections when does technolust become an addiction congress considering more low power fm stations judge deals blow to riaa from the glad that's all worked out dept posted by samzenpus on wednesday june escapenumber escapenumber escapenumber the courts http yro slashdot org article pl sid escapenumber escapenumber escapenumber escapenumber jcgamescapenumber writes a federal judge in new mexico has escapenumber put the brakes on the riaa's lawsuit train at least in the us district court for new mexico the case in question is part of the riaa's campaign against file sharing on college campuses and names does escapenumber escapenumber who allegedly engaged in copyright infringement using the university of new mexico's network in a ruling issued last month but disclosed today by file sharing attorney ray beckerman judge lorenzo f garcia denied the riaa's motion to engage in discovery this means that the riaa will not be able to easily get subpoenas to obtain identifying information from the university discuss this story at http yro slashdot org comments pl sid escapenumber escapenumber escapenumber escapenumber links escapenumber http arstechnica com news ars post escapenumber judge deals blow to riaa says students can respond to john doe lawsuit html google's new lobbying power in washington from the one nation under google dept posted by samzenpus on wednesday june escapenumber escapenumber escapenumber google http politics slashdot org article pl sid escapenumber escapenumber escapenumber escapenumber secadm writes learning from microsoft's error escapenumber google is building a lobbying power house in washington from the washington post article two years ago google was on the verge of making that microsoft like error davidson then a escapenumber year old former deputy director of the center for democracy technology was the search engine company's sole staff lobbyist in washington as recently as last year google co founder sergey brin had trouble getting meetings with members of congress to change that google went on a hiring spree and now has escapenumber lobbyists and lobbying related professionals on staff here \\u2014 more than double the size of the standard corporate lobbying office \\u2014 and is continuing to add people discuss this story at http politics slashdot org comments pl sid escapenumber escapenumber escapenumber escapenumber links escapenumber http www washingtonpost com wp dyn content article escapenumber escapenumber escapenumber arescapenumber html hpid moreheadlines scientists move closer to human therapeutic cloning from the send the therapeutic you to work day dept posted by samzenpus on wednesday june escapenumber escapenumber escapenumber biotech http science slashdot org article pl sid escapenumber escapenumber escapenumber escapenumber escapenumber human therapeutic cloning has moved a step closer after u s researchers said they had successfully created embryonic stem cells from monkey embryos scientists told a stem cell research conference in cairns this week that they had successfully created two batches of embryonic stem cells from cloned rhesus monkey embryos discuss this story at http science slashdot org comments pl sid escapenumber escapenumber escapenumber escapenumber links escapenumber http www reuters com article sciencenews idussydescapenumber faa plans to clean up the skies from the fly the clean and friendly skies dept posted by samzenpus on thursday june escapenumber escapenumber escapenumber science http science slashdot org article pl sid escapenumber escapenumber escapenumber escapenumber escapenumber coondoggie writes on top of its recently announced plan to reduce flight delays federal aviation administration officials today launched what they hope will be pan u s and european union joint action plan to escapenumber cut greenhouse gas emissions from aircraft specifically the group announced the atlantic interoperability initiative to reduce emissions or aire \\u2014 the first large scale environmental plan aimed at uniting aviation players from both sides of the atlantic discuss this story at http science slashdot org comments pl sid escapenumber escapenumber escapenumber escapenumber links escapenumber http networkworld com escapenumber http www networkworld com community q node escapenumber microsoft flip flopping on virtualization license from the make up your mind dept posted by samzenpus on thursday june escapenumber escapenumber escapenumber microsoft http it slashdot org article pl sid escapenumber escapenumber escapenumber escapenumber cole writes microsoft came within a few hours of escapenumber reversing its eula based ban on the virtualization of vista basic and premium only to cancel the announcement at the last minute the company reached out to media and bloggers about the announcement and was ready to celebrate user choice before pulling the plug apparently clinging to security excuses from the article the threat of hypervisor malware affects ultimate and business editions just as much as home premium and basic as such the only logical explanation is that microsoft is using pricing to discourage users from virtualizing those oses since when is a price tag an effective means of combating malware something else must be going on here discuss this story at http it slashdot org comments pl sid escapenumber escapenumber escapenumber escapenumber links escapenumber http arstechnica com news ars post escapenumber microsofts ditches about face on virtualization in escapenumberth hour html the privacy of email from the stop reading that dept posted by samzenpus on thursday june escapenumber escapenumber escapenumber the courts http yro slashdot org article pl sid escapenumber escapenumber escapenumber escapenumber an anonymous coward writes a u s appeals court in ohio has ruled that escapenumber e mail messages stored on internet servers are protected by the constitution as are telephone conversations and that a federal law permitting warrantless secret searches of e mail violates the fourth amendment 'the stored communications act is very important ' former federal prosecutor and counter terrorism specialist andrew mccarthy told united press international but the future of the law now hangs in the balance discuss this story at http yro slashdot org comments pl sid escapenumber escapenumber escapenumber escapenumber links escapenumber http news monstersandcritics com intelandterror article escapenumber php the privacy of internet e mail osi to crack down on open source abusers from the opening a can of whup ass dept posted by kdawson on thursday june escapenumber escapenumber escapenumber software http slashdot org article pl sid escapenumber escapenumber escapenumber escapenumber munchola sends us word that the open source initiative is escapenumber getting tough on any vendors who claim to be open source despite not actually using a license approved by the osi in his blog post osi president michael tiemann writes enough is enough open source has grown up now it is time for us to stand up i believe that when we do the vendors who ignore our norms will suddenly recognize that they really do need to make a choice to label their software correctly and honestly or to license it with an osi approved license that matches their open source label discuss this story at http slashdot org comments pl sid escapenumber escapenumber escapenumber escapenumber links escapenumber http www opensource org node escapenumber inkjet printers lying or just wrong from the running on empty dept posted by kdawson on thursday june escapenumber escapenumber escapenumber printers http hardware slashdot org article pl sid escapenumber escapenumber escapenumber escapenumber akkarin writes in about a study reported at ars technica on escapenumber how accurate ink jet printers are when they report that cartridges are empty not very it turns out epson came out on top of the study and ars rightly questions how objective it was given that epson paid for it but even they waste escapenumber of the ink if users take the printers' word for when to get a new cartridge on average the printers in the study wasted more than half the ink that users bought discuss this story at http hardware slashdot org comments pl sid escapenumber escapenumber escapenumber escapenumber links escapenumber http arstechnica com news ars post escapenumber study inkjet printers are filthy lying thieves html ao rating basically bans manhunt escapenumber from release from the catch escapenumber dept posted by zonk on thursday june escapenumber escapenumber escapenumber censorship http yro slashdot org article pl sid escapenumber escapenumber escapenumber escapenumber yesterday we discussed escapenumber manhunt escapenumber's ao rating and what it meant for the game's retail outlook gamespot points out that effectively an ao rating means that escapenumber the game will never be released in the first place both nintendo and sony forbid licensed third party publishers from releasing games rated ao for adults only on their various hardware platforms though manhunt escapenumber isn't slated for any of microsoft's systems the company has also confirmed that it does not allow ao rated titles on the xbox or xbox escapenumber the sole exception to this rule was in escapenumber when the already released grand theft auto san andreas was retroactively rated ao at which point retailers pulled it from shelves and take two suspended production of the game discuss this story at http yro slashdot org comments pl sid escapenumber escapenumber escapenumber escapenumber links escapenumber http games slashdot org article pl sid escapenumber escapenumber escapenumber escapenumber tid escapenumber escapenumber http www gamespot com news escapenumber html innovation's role is sorely exaggerated from the against the church of technological hype dept posted by kdawson on thursday june escapenumber escapenumber escapenumber technology http slashdot org article pl sid escapenumber escapenumber escapenumber escapenumber strudelkugel writes the new yorker has a book review describing escapenumber our common misunderstanding of the value of technology and its ultimate uses the reviewer notes that the way we think about technology tends to ignore older objects of technology quoting ' w hen we do consider technology in historical terms we customarily see it as a driving force of progress every so often an innovation \\u2014 the steam engine electricity computers \\u2014 brings a new age into being in the shock of the old technology and global history since escapenumber by david edgerton a well known british historian of modern military and industrial technology offers a vigorous assault on this narrative he thinks that traditional ways of understanding technology technological change and the role of technology in our lives have been severely distorted by what he calls the innovation centric account of technology ' money quote seen in this light my kitchen is a technological escapenumber palimpsest discuss this story at http slashdot org comments pl sid escapenumber escapenumber escapenumber escapenumber links escapenumber http www newyorker com arts critics books escapenumber escapenumber escapenumber escapenumbercrbo books shapin currentpage all escapenumber http en wikipedia org wiki palimpsest sourceforge's hottest five apps from the top of the heap dept posted by kdawson on thursday june escapenumber escapenumber escapenumber software http it slashdot org article pl sid escapenumber escapenumber escapenumber escapenumber escapenumber davidmwilliams points us to his story up on it wire about the escapenumber top five most active open source projects on sourceforge sourceforge net and slashdot are both owned by sourceforge inc he writes it explains what they do and why they're useful most of these will be new to most people but all are definitely bursting with potential discuss this story at http it slashdot org comments pl sid escapenumber escapenumber escapenumber escapenumber links escapenumber http www alivad com escapenumber http www itwire com au indexescapenumber php option com content task view id escapenumber pop escapenumber page escapenumber itemid escapenumber proposed amendment would ban all dvd copying from the not your bits dept posted by kdawson on thursday june escapenumber escapenumber escapenumber media http yro slashdot org article pl sid escapenumber escapenumber escapenumber escapenumber ynefel writes in with a pc magazine article reporting that the dvd copy control association is considering an amendment to the agreement equipment vendors must abide by which would escapenumber completely ban all dvd backups whether fair use or not and prevent dvds from playing without the dvd disk being present in the drive the amendment is being voted on imminently and if approved would go into effect within escapenumber months quoting the proposed amendment was made public in a letter sent by michael malcolm the chief executive of kaleidescape a dvd jukebox company which successfully defeated a suit by the dvd cca this past march discuss this story at http yro slashdot org comments pl sid escapenumber escapenumber escapenumber escapenumber links escapenumber http www pcmag com articleescapenumber escapenumber escapenumber escapenumber escapenumber asp faster and open access to scientific results from the idea worth spreading dept posted by kdawson on thursday june escapenumber escapenumber escapenumber biotech http science slashdot org article pl sid escapenumber escapenumber escapenumber escapenumber tim o'reilly has a post about how the prominent scholarly journal nature has recently launched an open access service for escapenumber pre publication research and presentations in escapenumber nature precedings all content is released under a creative commons attribution license and can be commented and voted on the service will cover research in biology chemistry and earth science much like arxiv org does for physics mathematics and computer science discuss this story at http science slashdot org comments pl sid escapenumber escapenumber escapenumber escapenumber links escapenumber http radar oreilly com archives escapenumber escapenumber nature precedin html escapenumber http precedings nature com iphone's mystery app is h escapenumber youtube from the could be the killer dept posted by kdawson on thursday june escapenumber escapenumber escapenumber communications http apple slashdot org article pl sid escapenumber escapenumber escapenumber escapenumber rebelgecko writes it turns out the iphone's escapenumber mystery app is a custom youtube viewer the iphone will escapenumber play youtube's videos using the h escapenumber codec as will the appletv after an upgrade for higher quality from the escapenumber look of it it will take advantage of the iphone's screen design and touch capabilities much more than watching videos in the iphone's version of safari would the videos can be streamed via a wi fi connection or the edge network discuss this story at http apple slashdot org comments pl sid escapenumber escapenumber escapenumber escapenumber links escapenumber http macenstein com default archives escapenumber escapenumber http www apple com pr library escapenumber escapenumber escapenumberyoutube html escapenumber http www apple com iphone internet feature featureescapenumber canadian politicians demand dmca from the couldn't blame canada then dept posted by kdawson on thursday june escapenumber escapenumber escapenumber music http politics slashdot org article pl sid escapenumber escapenumber escapenumber escapenumber an anonymous reader writes michael geist is reporting that a canadian parliamentary committee has escapenumber demanded that the government establish a canadian dmca the demand which comes in a escapenumber study on counterfeiting and piracy pdf released on wednesday night recommends ratification of the wipo internet treaties increasing damage awards for copyright infringement creating new offenses for selling modification devices and encouraging prosecutors to seek jail time for piracy violations discuss this story at http politics slashdot org comments pl sid escapenumber escapenumber escapenumber escapenumber links escapenumber http www michaelgeist ca content view escapenumber escapenumber escapenumber http cmte parl gc ca content hoc committee escapenumber indu reports rpescapenumber escapenumber indu rptescapenumber pdf escapenumber indu rptescapenumber e pdf emi says itms drm free music selling well from the people like choice dept posted by zonk on thursday june escapenumber escapenumber escapenumber music http apple slashdot org article pl sid escapenumber escapenumber escapenumber escapenumber an anonymous reader writes ' escapenumber the initial results of drm free music are good' says lauren berkowitz a senior vice president of emi at a music industry conference in new york berkowitz went on to say that the early results from itunes indicate that drm free offerings may boost revenue from digital albums as well as individual songs discuss this story at http apple slashdot org comments pl sid escapenumber escapenumber escapenumber escapenumber links escapenumber http www macworld co uk news index cfm newsid escapenumber mandriva says no to microsoft linux deal from the penguins on the offensive dept posted by zonk on thursday june escapenumber escapenumber escapenumber microsoft http linux slashdot org article pl sid escapenumber escapenumber escapenumber escapenumber escapenumber kurtz'skompund writes french linux vendor escapenumber mandriva said no to dealing with microsoft on open source patents they're the third linux vendor in a week to do so joining red hat and ubuntu in the 'against' column techworld reports that mandriva's ceo echoed statements from other open source leaders saying essentially 'we don't need to pay protection money to do our job ' from the article 'jonathan eunice an analyst at illuminata said microsoft's deals with xandros and linspire don't have the same impact as they would if they had been made with a major linux vendor such as red hat i think microsoft is going to second tier players and they're cutting deals with them because they are softer targets eunice said ' discuss this story at http linux slashdot org comments pl sid escapenumber escapenumber escapenumber escapenumber links escapenumber http kurtz vnunetblogs com escapenumber http www techworld com opsys news index cfm newsid escapenumber pagtype all pirate bay launches uncensored image hosting from the can't imagine what will get uploaded dept posted by zonk on thursday june escapenumber escapenumber escapenumber censorship http yro slashdot org article pl sid escapenumber escapenumber escapenumber escapenumber escapenumber spamicles writes the guys over at the pirate bay have launched a new escapenumber censorship free image hosting website called escapenumber bayimg users of the new service don't have to sign up in order to upload images however they can assign a 'removal code' to uploaded images in case they want to delete the files after a while and tags to categorize images bayimg currently supports escapenumber file formats and supports uploading zip and rar archives the maximum file size of uploads is escapenumbermb the article also discusses tpb's plans for launching a video streaming service that will potentially compete with youtube discuss this story at http yro slashdot org comments pl sid escapenumber escapenumber escapenumber escapenumber links escapenumber mailto paulastewart gmail com escapenumber http www lawbean com escapenumber escapenumber escapenumber the pirate bay launches uncensored image hosting escapenumber http www bayimg com subcommittee stops human mars mission spending from the who wants to go there anyway dept posted by zonk on thursday june escapenumber escapenumber escapenumber space http science slashdot org article pl sid escapenumber escapenumber escapenumber escapenumber an anonymous reader writes last week's house appropriations subcommittee for commerce justice and science fyescapenumber budget markup would prevent work on programs devoted to human missions to mars according to a house appropriations committee escapenumber press release the markup language states that nasa cannot pursue development or demonstration activity related exclusively to human exploration of mars nasa has too much on its plate already and the president is welcome to include adequate funding for the human mars initiative in a budget amendment or subsequent year funding requests the mars society is already leading an escapenumber effort to get the language removed discuss this story at http science slashdot org comments pl sid escapenumber escapenumber escapenumber escapenumber links escapenumber http appropriations house gov pdf mollohan escapenumbersubc escapenumber pdf escapenumber http www marssociety org portal members jlagarde escapelong at t gears up for the iphone from the escapenumber extra hands dept posted by zonk on thursday june escapenumber escapenumber escapenumber communications http apple slashdot org article pl sid escapenumber escapenumber escapenumber escapenumber escapenumber elvawsj writes in preparation for its exclusive launch of the cellphone industry's most anticipated device escapenumber at t is pulling out all the stops it is adding about escapenumber escapenumber temporary employees to cope with the influx of shoppers in the first few months and it is planning for enhanced security to control the potentially large crowds and avoid theft of the phones which will go for a steep escapenumber or escapenumber depending on memory capacity some sales agents expect to see people camping outside the night before 'apple which plans to start selling the phone in all of its escapenumber retail stores on june escapenumber did not disclose any plans around training or staffing for the launch apple will also start selling the phone online on the launch date but at t will first launch only in its stores at t which is requiring iphone shoppers to sign up for a escapenumber year contract has not yet revealed the service fees it will charge iphone customers ' discuss this story at http apple slashdot org comments pl sid escapenumber escapenumber escapenumber escapenumber links escapenumber http wsj com free escapenumber http www washingtonpost com wp dyn content article escapenumber escapenumber escapenumber arescapenumber html peer review starts for software patents from the clarity to a muddy situation dept posted by zonk on thursday june escapenumber escapenumber escapenumber patents http yro slashdot org article pl sid escapenumber escapenumber escapenumber escapenumber perbert writes as seen in an interview in ieee spectrum qualcomm v broadcom amazon v ibm apple v seemingly everyone the number of high profile patent lawsuits in this country has reached a staggering level hoping to curtail the orgy of tech industry litigation the u s patent and trademark office uspto is experimenting with escapenumber reforming the way patents are applied for and processed launched on escapenumber june escapenumber was an internet based peer review program whereby anyone even you can help to evaluate a number of software patent applications voluntarily submitted for public evaluation the one year pilot peer to patent program is a collaboration between the uspto and new york law school's institute for information law and policy in new york city the program's escapenumber web site allows users to weigh in on patent applications by researching evaluating submitting and discussing prior art which is any existing information such as articles in technology journals and other patents relevant to the applicant's claims discuss this story at http yro slashdot org comments pl sid escapenumber escapenumber escapenumber escapenumber links escapenumber http spectrum ieee org junescapenumber escapenumber escapenumber http www peertopatent org e voting report finds problems with modern elections from the i'm going to count these again if you don't mind dept posted by zonk on thursday june escapenumber escapenumber escapenumber politics http politics slashdot org article pl sid escapenumber escapenumber escapenumber escapenumber escapenumber jonrob writes the open rights group has released a report on escapenumber challenges faced by voting technology using the may escapenumber scottish english elections as a testbed researchers have collated hundreds of observations into a verdict on voting in the digital age 'the report provides a comprehensive look at elections that used e counting or e voting technologies as a result of the report's findings org cannot express confidence in the results for the areas we observed this is not a declaration we take lightly but despite having had accredited observers on location having interviewed local authorities and having filed freedom of information requests org is still not able to verify if votes were counted accurately and as voters intended ' the report is escapenumber available online in pdf format for download discuss this story at http politics slashdot org comments pl sid escapenumber escapenumber escapenumber escapenumber links escapenumber http questionsplease org escapenumber http www openrightsgroup org escapenumber escapenumber escapenumber org election report highlights problems with voting technology used escapenumber http www openrightsgroup org wp content uploads org election report pdf when does technolust become an addiction from the right about here dept posted by zonk on thursday june escapenumber escapenumber escapenumber communications http hardware slashdot org article pl sid escapenumber escapenumber escapenumber escapenumber an anonymous reader writes according to a cnet article an incredible one in three people aged escapenumber to escapenumber in the uk would escapenumber not give up their mobile phone for a million pounds 'the phone centric survey called mobile life was carried out across the uk and questioned escapenumber escapenumber people aged escapenumber to escapenumber on a variety of topics so young people really like having a mobile phone and we all love buying gadgets but before you dismiss this research as stating the bleeding obvious think about this if someone had told you even ten years ago that people would be taking out second mortgages to buy flat screen tvs would you have believed it ' is this just the result of deliberately skewed marketing dressed up as research or is this another indication of western culture's obsession with communication and technology how much is too much tech discuss this story at http hardware slashdot org comments pl sid escapenumber escapenumber escapenumber escapenumber links escapenumber http crave cnet co uk mobiles escapenumber escapenumber escapenumber escapenumber htm congress considering more low power fm stations from the low power to the people dept posted by cowboyneal on thursday june escapenumber escapenumber escapenumber the media http politics slashdot org article pl sid escapenumber escapenumber escapenumber escapenumber skapare writes according to this reclaimthemedia article the escapenumber local community radio act of escapenumber pdf would remove the artificial restrictions imposed on escapenumber lpfm by a escapenumber law passed at the urging of corporate radio giants and npr claiming that small community stations would interfere with the signals of larger stations if passed this bill will pave the way for educational groups nonprofits unions schools and local governments to escapenumber launch new local radio stations across the country discuss this story at http politics slashdot org comments pl sid escapenumber escapenumber escapenumber escapenumber links escapenumber http prometheusradio org media local community radio act of escapenumber pdf escapenumber http www fcc gov mb policy lpfm escapenumber http reclaimthemedia org radio low power radio gets new push escapenumber copyright escapenumber escapenumber ostg all rights reserved you have received this message because you subscribed to it on slashdot to stop receiving this and other messages from slashdot or to add more messages or change your preferences please go to your user page http slashdot org my messages you can log in and change your preferences from there \"\n        ],\n        \"semantic_type\": \"\",\n        \"description\": \"\"\n      }\n    },\n    {\n      \"column\": 53926,\n      \"properties\": {\n        \"dtype\": \"string\",\n        \"num_unique_values\": 3,\n        \"samples\": [\n          53926,\n          0,\n          \"the drn number assigned is : 291037 . sorry i left that off the first notice .\\nkb\\nkaren brostad\\n01 / 19 / 2001 08 : 26 am\\nto : linda trevino / et & s / enron @ enron , perry frazier / et & s / enron @ enron , james\\nmoore / et & s / enron @ enron , john buchanan / et & s / enron @ enron , dennis\\nlee / et & s / enron @ enron , darrell schoolcraft / et & s / enron @ enron , gary\\nspraggins / et & s / enron @ enron , linda ward / et & s / enron @ enron , beverly\\nmiller / et & s / enron @ enron , cynthia rivers / et & s / enron @ enron , sigrid\\nmacpherson / gpgfin / enron @ enron , terry kowalke / et & s / enron @ enron , albert\\nhernandez / et & s / enron @ enron , dale eldridge / et & s / enron @ enron , amy\\nmulligan / et & s / enron @ enron , vernon mercaldo / et & s / enron @ enron , donald\\nvignaroli / et & s / enron @ enron , bret fritch / et & s / enron @ enron , gale\\nramsaran / et & s / enron @ enron , michelle lokay / et & s / enron @ enron , tammy\\njaquet / et & s / enron @ enron , mary draemer / et & s / enron @ enron , james\\nstudebaker / fgt / enron @ enron , lorraine lindberg / et & s / enron @ enron , jeffery\\nfawcett / et & s / enron @ enron , martha cormier / et & s / enron @ enron\\ncc :\\nsubject : elpaso / tw eddy poi 78093\\nplease be advised the following point has been set up on transwestern\\npipeline .\\nname : el paso / tw eddy rec\\ntype : pdc\\ndirection receipt to tw\\nlocation sec 17 , tl 9 s , r 31 e , eddy co , nm\\nadded to templates : all reciepts\\nfirm alt receipts\\neast of thoreau receipts\\neffective date 1 / 1 / 9 / 01 . michele ( cormier ) please add to oba for el paso\\nfield services .\\nthanks\\nkaren brostad\"\n        ],\n        \"semantic_type\": \"\",\n        \"description\": \"\"\n      }\n    },\n    {\n      \"column\": 68138,\n      \"properties\": {\n        \"dtype\": \"string\",\n        \"num_unique_values\": 3,\n        \"samples\": [\n          68138,\n          1,\n          \"your membership exchange , issue # 442\\naugust 6 , 2001\\nthis email was sent to jm @ netnoteinc . com , at your request , by your membership newsletter services .\\nvisit our subscription center to edit your interests or unsubscribe .\\nview our privacy policy .\\npowered by\\n\"\n        ],\n        \"semantic_type\": \"\",\n        \"description\": \"\"\n      }\n    },\n    {\n      \"column\": 11869,\n      \"properties\": {\n        \"dtype\": \"string\",\n        \"num_unique_values\": 3,\n        \"samples\": [\n          11869,\n          1,\n          \"working on your company ' s image ? start with a\\nvisual identity a key to the first good impression . we are here to\\nhelp you ! we ' ll take part in buildinq a positive visual imaqe\\nof your company by creatinq an outstandinq iogo , presentabie stationery\\nitems and professional website . these marketing tools will significantiy\\ncontributeto success of your business . take a look at our work sampies , hot deai packages and\\nsee what we have to offer . we work for you !\\n_ _ _ _ _ _ _ _ _ _ _ _ _ _ _ _ _ _ _ _ _ _ _ _ _ _ _ _ _ _ _ _ _ _ _ _ _ _ _ _ _ _ _ _ _ _ _ _ _ _ _ _ _ not interested . . . _ _ _ _ _ _ _ _ _ _ _ _ _ _ _ _ _ _ _ _ _ _ _ _ _ _ _ _ _ _ _ _ _ _ _ _ _ _ _ _ _ _ _ _ _ _ _ _ _ _ _ _ _\"\n        ],\n        \"semantic_type\": \"\",\n        \"description\": \"\"\n      }\n    }\n  ]\n}"
            }
          },
          "metadata": {},
          "execution_count": 4
        }
      ]
    },
    {
      "cell_type": "code",
      "source": [
        "data.drop(columns=['Unnamed: 0'], inplace=True)\n",
        "data.shape"
      ],
      "metadata": {
        "colab": {
          "base_uri": "https://localhost:8080/"
        },
        "id": "hy1aXuAdB-la",
        "outputId": "accfa340-8198-4973-fe7f-ab674f6ea83c"
      },
      "execution_count": 5,
      "outputs": [
        {
          "output_type": "execute_result",
          "data": {
            "text/plain": [
              "(83448, 2)"
            ]
          },
          "metadata": {},
          "execution_count": 5
        }
      ]
    },
    {
      "cell_type": "code",
      "source": [
        "def clean_text(text):\n",
        "    text = BeautifulSoup(text, \"lxml\").get_text()\n",
        "    text = re.sub(r\"https?://\\S+|www\\.\\S+\",\" \",text) # Removing URLS\n",
        "    text = re.sub(r\"@[A-Za-z0-9]+\",\" \",text)\n",
        "    text = re.sub(r\"https?://[A-Za-z0-9]+\",\" \",text) # Removing html tags\n",
        "    text = re.sub(r\"<.*?>|&([a-z0-9]+|#[0-9]{1,6}|#x[0-9a-f]{1,6});\",\" \",text) # Removing html tags\n",
        "    text = re.sub(r\"[^\\w\\s]\", \" \", text) # Removing Punctuation\n",
        "    text = re.sub(r\" +\", \" \", text) # Removing repeatition of anything\n",
        "#     text = re.sub(r\"[^a-zA-Z.!?']\", \" \", text) # Removing non-letter words\n",
        "    text = re.sub(r\"\\s+\", \" \", text).strip() # Removing whitespace\n",
        "    return text"
      ],
      "metadata": {
        "id": "newHlFs4ubho"
      },
      "execution_count": 6,
      "outputs": []
    },
    {
      "cell_type": "code",
      "source": [
        "data['text'] = data['text'].apply(clean_text)\n",
        "data.sample(5).T"
      ],
      "metadata": {
        "colab": {
          "base_uri": "https://localhost:8080/",
          "height": 129
        },
        "id": "nlni6N76A1qi",
        "outputId": "f1946d41-92c5-4b88-b2ef-4b8cd0b92fd0"
      },
      "execution_count": 7,
      "outputs": [
        {
          "output_type": "execute_result",
          "data": {
            "text/plain": [
              "                                                   28000  \\\n",
              "label                                                  1   \n",
              "text   we only sell premium watches there s no batter...   \n",
              "\n",
              "                                                   12358  \\\n",
              "label                                                  0   \n",
              "text   metze on tue may escapenumber escapenumber at ...   \n",
              "\n",
              "                                                   46461  \\\n",
              "label                                                  1   \n",
              "text   grandes lanzamientos mayo escapenumber son sup...   \n",
              "\n",
              "                                                   71456  \\\n",
              "label                                                  1   \n",
              "text   with get smart skills the efforts oftenwould w...   \n",
              "\n",
              "                                                   70779  \n",
              "label                                                  0  \n",
              "text   on escapenumber escapenumber escapenumber ravi...  "
            ],
            "text/html": [
              "\n",
              "  <div id=\"df-537c6160-28c2-43d9-b126-568693f8584f\" class=\"colab-df-container\">\n",
              "    <div>\n",
              "<style scoped>\n",
              "    .dataframe tbody tr th:only-of-type {\n",
              "        vertical-align: middle;\n",
              "    }\n",
              "\n",
              "    .dataframe tbody tr th {\n",
              "        vertical-align: top;\n",
              "    }\n",
              "\n",
              "    .dataframe thead th {\n",
              "        text-align: right;\n",
              "    }\n",
              "</style>\n",
              "<table border=\"1\" class=\"dataframe\">\n",
              "  <thead>\n",
              "    <tr style=\"text-align: right;\">\n",
              "      <th></th>\n",
              "      <th>28000</th>\n",
              "      <th>12358</th>\n",
              "      <th>46461</th>\n",
              "      <th>71456</th>\n",
              "      <th>70779</th>\n",
              "    </tr>\n",
              "  </thead>\n",
              "  <tbody>\n",
              "    <tr>\n",
              "      <th>label</th>\n",
              "      <td>1</td>\n",
              "      <td>0</td>\n",
              "      <td>1</td>\n",
              "      <td>1</td>\n",
              "      <td>0</td>\n",
              "    </tr>\n",
              "    <tr>\n",
              "      <th>text</th>\n",
              "      <td>we only sell premium watches there s no batter...</td>\n",
              "      <td>metze on tue may escapenumber escapenumber at ...</td>\n",
              "      <td>grandes lanzamientos mayo escapenumber son sup...</td>\n",
              "      <td>with get smart skills the efforts oftenwould w...</td>\n",
              "      <td>on escapenumber escapenumber escapenumber ravi...</td>\n",
              "    </tr>\n",
              "  </tbody>\n",
              "</table>\n",
              "</div>\n",
              "    <div class=\"colab-df-buttons\">\n",
              "\n",
              "  <div class=\"colab-df-container\">\n",
              "    <button class=\"colab-df-convert\" onclick=\"convertToInteractive('df-537c6160-28c2-43d9-b126-568693f8584f')\"\n",
              "            title=\"Convert this dataframe to an interactive table.\"\n",
              "            style=\"display:none;\">\n",
              "\n",
              "  <svg xmlns=\"http://www.w3.org/2000/svg\" height=\"24px\" viewBox=\"0 -960 960 960\">\n",
              "    <path d=\"M120-120v-720h720v720H120Zm60-500h600v-160H180v160Zm220 220h160v-160H400v160Zm0 220h160v-160H400v160ZM180-400h160v-160H180v160Zm440 0h160v-160H620v160ZM180-180h160v-160H180v160Zm440 0h160v-160H620v160Z\"/>\n",
              "  </svg>\n",
              "    </button>\n",
              "\n",
              "  <style>\n",
              "    .colab-df-container {\n",
              "      display:flex;\n",
              "      gap: 12px;\n",
              "    }\n",
              "\n",
              "    .colab-df-convert {\n",
              "      background-color: #E8F0FE;\n",
              "      border: none;\n",
              "      border-radius: 50%;\n",
              "      cursor: pointer;\n",
              "      display: none;\n",
              "      fill: #1967D2;\n",
              "      height: 32px;\n",
              "      padding: 0 0 0 0;\n",
              "      width: 32px;\n",
              "    }\n",
              "\n",
              "    .colab-df-convert:hover {\n",
              "      background-color: #E2EBFA;\n",
              "      box-shadow: 0px 1px 2px rgba(60, 64, 67, 0.3), 0px 1px 3px 1px rgba(60, 64, 67, 0.15);\n",
              "      fill: #174EA6;\n",
              "    }\n",
              "\n",
              "    .colab-df-buttons div {\n",
              "      margin-bottom: 4px;\n",
              "    }\n",
              "\n",
              "    [theme=dark] .colab-df-convert {\n",
              "      background-color: #3B4455;\n",
              "      fill: #D2E3FC;\n",
              "    }\n",
              "\n",
              "    [theme=dark] .colab-df-convert:hover {\n",
              "      background-color: #434B5C;\n",
              "      box-shadow: 0px 1px 3px 1px rgba(0, 0, 0, 0.15);\n",
              "      filter: drop-shadow(0px 1px 2px rgba(0, 0, 0, 0.3));\n",
              "      fill: #FFFFFF;\n",
              "    }\n",
              "  </style>\n",
              "\n",
              "    <script>\n",
              "      const buttonEl =\n",
              "        document.querySelector('#df-537c6160-28c2-43d9-b126-568693f8584f button.colab-df-convert');\n",
              "      buttonEl.style.display =\n",
              "        google.colab.kernel.accessAllowed ? 'block' : 'none';\n",
              "\n",
              "      async function convertToInteractive(key) {\n",
              "        const element = document.querySelector('#df-537c6160-28c2-43d9-b126-568693f8584f');\n",
              "        const dataTable =\n",
              "          await google.colab.kernel.invokeFunction('convertToInteractive',\n",
              "                                                    [key], {});\n",
              "        if (!dataTable) return;\n",
              "\n",
              "        const docLinkHtml = 'Like what you see? Visit the ' +\n",
              "          '<a target=\"_blank\" href=https://colab.research.google.com/notebooks/data_table.ipynb>data table notebook</a>'\n",
              "          + ' to learn more about interactive tables.';\n",
              "        element.innerHTML = '';\n",
              "        dataTable['output_type'] = 'display_data';\n",
              "        await google.colab.output.renderOutput(dataTable, element);\n",
              "        const docLink = document.createElement('div');\n",
              "        docLink.innerHTML = docLinkHtml;\n",
              "        element.appendChild(docLink);\n",
              "      }\n",
              "    </script>\n",
              "  </div>\n",
              "\n",
              "\n",
              "<div id=\"df-c0f23f0b-3565-4310-9d24-153f5f46c122\">\n",
              "  <button class=\"colab-df-quickchart\" onclick=\"quickchart('df-c0f23f0b-3565-4310-9d24-153f5f46c122')\"\n",
              "            title=\"Suggest charts\"\n",
              "            style=\"display:none;\">\n",
              "\n",
              "<svg xmlns=\"http://www.w3.org/2000/svg\" height=\"24px\"viewBox=\"0 0 24 24\"\n",
              "     width=\"24px\">\n",
              "    <g>\n",
              "        <path d=\"M19 3H5c-1.1 0-2 .9-2 2v14c0 1.1.9 2 2 2h14c1.1 0 2-.9 2-2V5c0-1.1-.9-2-2-2zM9 17H7v-7h2v7zm4 0h-2V7h2v10zm4 0h-2v-4h2v4z\"/>\n",
              "    </g>\n",
              "</svg>\n",
              "  </button>\n",
              "\n",
              "<style>\n",
              "  .colab-df-quickchart {\n",
              "      --bg-color: #E8F0FE;\n",
              "      --fill-color: #1967D2;\n",
              "      --hover-bg-color: #E2EBFA;\n",
              "      --hover-fill-color: #174EA6;\n",
              "      --disabled-fill-color: #AAA;\n",
              "      --disabled-bg-color: #DDD;\n",
              "  }\n",
              "\n",
              "  [theme=dark] .colab-df-quickchart {\n",
              "      --bg-color: #3B4455;\n",
              "      --fill-color: #D2E3FC;\n",
              "      --hover-bg-color: #434B5C;\n",
              "      --hover-fill-color: #FFFFFF;\n",
              "      --disabled-bg-color: #3B4455;\n",
              "      --disabled-fill-color: #666;\n",
              "  }\n",
              "\n",
              "  .colab-df-quickchart {\n",
              "    background-color: var(--bg-color);\n",
              "    border: none;\n",
              "    border-radius: 50%;\n",
              "    cursor: pointer;\n",
              "    display: none;\n",
              "    fill: var(--fill-color);\n",
              "    height: 32px;\n",
              "    padding: 0;\n",
              "    width: 32px;\n",
              "  }\n",
              "\n",
              "  .colab-df-quickchart:hover {\n",
              "    background-color: var(--hover-bg-color);\n",
              "    box-shadow: 0 1px 2px rgba(60, 64, 67, 0.3), 0 1px 3px 1px rgba(60, 64, 67, 0.15);\n",
              "    fill: var(--button-hover-fill-color);\n",
              "  }\n",
              "\n",
              "  .colab-df-quickchart-complete:disabled,\n",
              "  .colab-df-quickchart-complete:disabled:hover {\n",
              "    background-color: var(--disabled-bg-color);\n",
              "    fill: var(--disabled-fill-color);\n",
              "    box-shadow: none;\n",
              "  }\n",
              "\n",
              "  .colab-df-spinner {\n",
              "    border: 2px solid var(--fill-color);\n",
              "    border-color: transparent;\n",
              "    border-bottom-color: var(--fill-color);\n",
              "    animation:\n",
              "      spin 1s steps(1) infinite;\n",
              "  }\n",
              "\n",
              "  @keyframes spin {\n",
              "    0% {\n",
              "      border-color: transparent;\n",
              "      border-bottom-color: var(--fill-color);\n",
              "      border-left-color: var(--fill-color);\n",
              "    }\n",
              "    20% {\n",
              "      border-color: transparent;\n",
              "      border-left-color: var(--fill-color);\n",
              "      border-top-color: var(--fill-color);\n",
              "    }\n",
              "    30% {\n",
              "      border-color: transparent;\n",
              "      border-left-color: var(--fill-color);\n",
              "      border-top-color: var(--fill-color);\n",
              "      border-right-color: var(--fill-color);\n",
              "    }\n",
              "    40% {\n",
              "      border-color: transparent;\n",
              "      border-right-color: var(--fill-color);\n",
              "      border-top-color: var(--fill-color);\n",
              "    }\n",
              "    60% {\n",
              "      border-color: transparent;\n",
              "      border-right-color: var(--fill-color);\n",
              "    }\n",
              "    80% {\n",
              "      border-color: transparent;\n",
              "      border-right-color: var(--fill-color);\n",
              "      border-bottom-color: var(--fill-color);\n",
              "    }\n",
              "    90% {\n",
              "      border-color: transparent;\n",
              "      border-bottom-color: var(--fill-color);\n",
              "    }\n",
              "  }\n",
              "</style>\n",
              "\n",
              "  <script>\n",
              "    async function quickchart(key) {\n",
              "      const quickchartButtonEl =\n",
              "        document.querySelector('#' + key + ' button');\n",
              "      quickchartButtonEl.disabled = true;  // To prevent multiple clicks.\n",
              "      quickchartButtonEl.classList.add('colab-df-spinner');\n",
              "      try {\n",
              "        const charts = await google.colab.kernel.invokeFunction(\n",
              "            'suggestCharts', [key], {});\n",
              "      } catch (error) {\n",
              "        console.error('Error during call to suggestCharts:', error);\n",
              "      }\n",
              "      quickchartButtonEl.classList.remove('colab-df-spinner');\n",
              "      quickchartButtonEl.classList.add('colab-df-quickchart-complete');\n",
              "    }\n",
              "    (() => {\n",
              "      let quickchartButtonEl =\n",
              "        document.querySelector('#df-c0f23f0b-3565-4310-9d24-153f5f46c122 button');\n",
              "      quickchartButtonEl.style.display =\n",
              "        google.colab.kernel.accessAllowed ? 'block' : 'none';\n",
              "    })();\n",
              "  </script>\n",
              "</div>\n",
              "\n",
              "    </div>\n",
              "  </div>\n"
            ],
            "application/vnd.google.colaboratory.intrinsic+json": {
              "type": "dataframe",
              "summary": "{\n  \"name\": \"data\",\n  \"rows\": 2,\n  \"fields\": [\n    {\n      \"column\": 28000,\n      \"properties\": {\n        \"dtype\": \"string\",\n        \"num_unique_values\": 2,\n        \"samples\": [\n          \"we only sell premium watches there s no battery in these replicas just like the real ones since they get recharged as you move the second hand moves just like the real ones too these original watches are sold in stores for thousands of dollars we sell them for a fraction of a price http bzddt escapelong yuytyu hk\",\n          1\n        ],\n        \"semantic_type\": \"\",\n        \"description\": \"\"\n      }\n    },\n    {\n      \"column\": 12358,\n      \"properties\": {\n        \"dtype\": \"string\",\n        \"num_unique_values\": 2,\n        \"samples\": [\n          \"metze on tue may escapenumber escapenumber at escapenumber escapenumber escapenumberam escapenumber metze samba org wrote author metze date escapenumber escapenumber escapenumber escapenumber escapenumber escapenumber escapenumber tue escapenumber may escapenumber new revision escapenumber escapenumber websvn http websvn samba org cgi bin viewcvs cgi view escapenumberdrev root escapenumberdsam ba rev escapelong escapenumber log don t ignore errors metze modified branches samba escapenumber escapenumber source torture libnet libnet user c escapenumber escapenumber changeset modified branches samba escapenumber escapenumber source torture libnet libnet user c escapenumberd escapenumberd escapenumberd escapenumberd escapenumberd escapenumberd escapenumberd escapenumberd escapenumberd escapenumberd escapenumberd escapenumberd escapenumberd escapenumberd escapenumberd escapenumberd escapenumberd escapenumberd escapenumberd escapenumberd escapenumberd escapenumberd escapenumberd escapenumberd escapenumberd escapenumberd escapenumberd escapenumberd escapenumberd escapenumberd escapenumberd escapenumberd escapenumberd escapenumberd escapenumberd escapenumberd escapenumberd escapenumberd escapenumberd escapenumberd escapenumberd escapenumberd escapenumberd escapenumberd escapenumberd escapenumberd escapenumberd escapenumberd escapenumberd escapenumberd escapenumberd escapenumberd escapenumberd escapenumberd escapenumberd escapenumberd escapenumberd escapenumberd escapenumberd escapenumberd escapenumberd escapenumberd escapenumberd escapenumberd escapenumberd escapenumberd escapenumberd branches samba escapenumber escapenumber source torture libnet libnet user c escapenumber escapenumber escapenumber escapenumber escapenumber escapenumber utc rev escapenumber branches samba escapenumber escapenumber source torture libnet libnet user c escapenumber escapenumber escapenumber escapenumber escapenumber escapenumber utc rev escapenumber escapenumber escapenumber escapenumber escapenumber status escapenumberd libnet userinfo ctx mem ctx user req if nt status is ok status printf libnet userinfo call failed s n nt errstr status ret escapenumberd false continue thanks for catching that cheers escapenumber rafal szczesniak samba team member http www samba org\",\n          0\n        ],\n        \"semantic_type\": \"\",\n        \"description\": \"\"\n      }\n    },\n    {\n      \"column\": 46461,\n      \"properties\": {\n        \"dtype\": \"string\",\n        \"num_unique_values\": 2,\n        \"samples\": [\n          \"grandes lanzamientos mayo escapenumber son super estrenos mundiales que no podes perderte lo nuevisimo lanzado por microsoft adobe symantec autocad toda la data fue testeada a fondo andan completos sastifaccion total te vas a querer morir cuando veas todo lo nuevo que compilamos para vos todo es nuevo mayo escapenumber productos testeados ok los lanzamientos son ineditos contenido completo de grandes lanzamientos mayo escapenumber windows vista ultimate autocrackeado espa\\u00f1ol no hay que activarlo autodesk autocad escapenumber espa\\u00f1ol full final extras escapenumberdvd lleno curso oficial multimedia windows vista ms oficce escapenumber espa\\u00f1ol escapenumber mb quiere saber los secretos del nuevo sistema del windows vista sus trucos sus posibilidades como con este fantastico curso audiovisual de windows vista y office escapenumber el primer curso hyper completo para conocer windows vista a la perfeccion un curso practico audiovisual super completo en lenguaje espanol con el que aprender\\u00e1s absolutamente todos los secretos del nuevo sistema operativo de microsoft dividido en escapenumber capitulos muy completos con imagenes ilustrativas a todo color adobe dreamweaver csescapenumber final full version adobe fireworks csescapenumber final full version adobe flash csescapenumber final full version adobe photoshop final extended full full manual multimedia de ensamblado y mantenimiento de pcs escapenumber de abril escapenumber estamos ante el mas nuevo e innovador curso de aprendizaje para armar y mantener pcs un curso desarrollado en formato multimedia flash nuevo recien lanzado al mercado que nos dejara con la boca abierta dada la alta calidad de contenido avanzado de aprendizaje que contiene a la hora de aprender a armar una pc como verdaderos expertos el curso esta dividido en dos partes el primero en cuanto al ensamblado y el otro sobre el mantenimiento de pcs symantec norton ghost solution suite escapenumber escapenumber norton save restore escapenumber escapenumber photo dvd creator escapenumber escapenumber roxio easy media creator escapenumber escapenumber suite espa\\u00f1ol full full escapenumber cds mega pack trucos windows xp espa\\u00f1ol abril escapenumber muchos usuarios utilizan como s o el win xp esta es la raz\\u00f3n por la cual innumerables expertos en inform\\u00e1tica han estudiado a fondo las opciones ocultas que trae este s o creado por microsoft y que no est\\u00e1n la mayor\\u00eda de las veces a la vista de cualquier persona que lo tiene instalado en su pc casi todas las contenidas en este manual se ejecutan desde el registro y permiten adaptar a las preferencias del consumidor el funcionamiento y operatividad de este sistema es com\\u00fan que cuando nos encontramos ante una falla o desconfiguracion de nuestro windows no sepamos utilizar las herramientas apropiadas que trae desarrolladas casi siempre sin acceso directo y en consecuencia nos ocasione a veces formatear e instalar nuevamente todo cuando la soluci\\u00f3n puede ser mucho m\\u00e1s simple que lo supuesto con solo estudiar algunos trucos o atajos muy bien descriptos en este tutorial todos los archivos que contiene est\\u00e1n en formato pdf y extra\\u00eddos de distintos estudiosos y aficionados en la materia para recurrir a ellos cuando nos sea necesario bonus extra de re ga lo con tu pedido te llevas este impresionante pack reci\\u00e9n lanzado al mercado pack impresionante con todo lo ultimo lanzado en abril al mercado en version full completas ordenados por categorias podes tener todo lo nuevo que salio al mercado dentro de este gigantisimo pack nueva compilacion mejorada y actualizada a abril escapenumber todos los programas son ultima version salidos en este mes estan en version full completa sin restricciones de ninguna indole programas full completos que se incluyen ordenados por categorias utilitarios de seguridad utilidades varias utilidades para dvd programas audio mpescapenumber herramientas de creacion visualizacion edicion pdf programas para cibercafes herramientas para celulares herramientas para impresoras herramientas para windows vista programas para creacion edicion reproduccion de archivos karaoke utilidades para redes wireless cursos manuales de aprendizaje espanol abril escapenumber costo de grandes lanzamientos escapenumber escapenumber envio incluido para solicitar este pac k dentro de argentina via contra reembolso le paga al cartero cuando lo recibe debes enviar un mail con los siguientes datos completos nombre y apellido calle y numero ciudad codigo postal provincia telefono e mail en el asunto del mail detallar pedido de grandes lanzamientos escapenumber pedidos unicamente a escapelong gmail com dvd garantizados antes algun eventual falla se reenvian sin costo alguno dvd de marca reconocida escapelong\",\n          1\n        ],\n        \"semantic_type\": \"\",\n        \"description\": \"\"\n      }\n    },\n    {\n      \"column\": 71456,\n      \"properties\": {\n        \"dtype\": \"string\",\n        \"num_unique_values\": 2,\n        \"samples\": [\n          \"with get smart skills the efforts oftenwould worry if is an important one said dr kenneth and parents alike ever wanted to ejaculate escapenumber times more would you like to show your girl s your e xual power and strength are you about to give up the fight for your bigger orgasm and greater ejacu lation stop there s a solution now wondercum visit our website with the other kids the academy s report he not be on par and other play\",\n          1\n        ],\n        \"semantic_type\": \"\",\n        \"description\": \"\"\n      }\n    },\n    {\n      \"column\": 70779,\n      \"properties\": {\n        \"dtype\": \"string\",\n        \"num_unique_values\": 2,\n        \"samples\": [\n          \"on escapenumber escapenumber escapenumber ravi varadhan wrote here is another approach i wrote an r function that would generate interior points as starting values for constroptim this might work better than the lp approach since the lp approach gives you a starting value that is on the boundary of the feasible region i e a vertex of the polyhedron whereas this new approach gives you points on the interior you can generate as many points as you wish but the approach is brute force and is very inefficient it takes on the order of a escapenumber tries to find one feasible point thanks again ravi actually the lp approach also works here let g x k be the constraints then by solving a lp problem with the constraints g x k escapenumber escapenumber returns an interior starting value for constroptim i am aware that the new set of constraints may correspond to an impossible linear system but it works in many cases paul original message from paul smith date tuesday july escapenumber escapenumber escapenumber escapenumber pm subject re r fine tunning rgenoud to r help on escapenumber escapenumber escapenumber ravi varadhan wrote it should be easy enough to check that your solution is valid i e a local minimum first check to see if the solution satisfies all the constraints secondly check to see if it is an interior point i e none of the constraints become equality and finally if the solution is an interior point check to see whether the gradient there is close to zero note that if the solution is one of the vertices of the polyhedron then the gradient may not be zero i am having bad luck all constraints are satisfied but the solution given by constroptim is not interior the gradient is not equal to zero paul original message from r help bounces stat math ethz ch on behalf of paul smith sent tuesday july escapenumber escapenumber escapenumber escapenumber pm to r help subject re r fine tunning rgenoud on escapenumber escapenumber escapenumber ravi varadhan wrote you had indicated in your previous email that you are having trouble finding a feasible starting value for constroptim so you basically need to solve a system of linear inequalities to obtain a starting point have you considered using linear programming either simplex in the boot package or solvelp in linprog would work it seems to me that you could use any linear objective function in solvelp to obtain a feasible starting point this is not the most efficient solution but it might be worth a try i am aware of other methods for generating n tuples that satisfy linear inequality constraints but afaik those are not available in r thanks ravi i had already conceived the solution that you suggest actually using lpsolve i am able to get a solution for my problem with constroptim but i am not enough confident that the solution is right that is why i am trying to get a solution with rgenoud but unsuccessfully until now paul original message from r help bounces stat math ethz ch on behalf of paul smith sent tuesday july escapenumber escapenumber escapenumber escapenumber pm to r help subject r fine tunning rgenoud dear all i am trying to solve the following maximization problem but i cannot have rgenoud giving me a reliable solution any ideas thanks in advance paul library rgenoud v escapenumber escapenumber oescapenumber escapenumber oescapenumber escapenumber oescapenumber v oescapenumber escapenumber v oescapenumber myfunc function x uescapenumber x escapenumber uescapenumber x escapenumber uescapenumber x escapenumber qescapenumber x escapenumber qescapenumber x escapenumber qescapenumber x escapenumber p x escapenumber if uescapenumber escapenumber return escapenumbere escapenumber else if uescapenumber escapenumber return escapenumbere escapenumber else if uescapenumber escapenumber return escapenumbere escapenumber else if uescapenumber uescapenumber oescapenumber oescapenumber qescapenumber escapenumber return escapenumbere escapenumber else if uescapenumber uescapenumber oescapenumber oescapenumber qescapenumber escapenumber return escapenumbere escapenumber else if uescapenumber uescapenumber oescapenumber oescapenumber qescapenumber escapenumber return escapenumbere escapenumber else if uescapenumber uescapenumber oescapenumber oescapenumber qescapenumber escapenumber return escapenumbere escapenumber else if uescapenumber uescapenumber oescapenumber oescapenumber qescapenumber escapenumber return escapenumbere escapenumber else if uescapenumber uescapenumber oescapenumber oescapenumber qescapenumber escapenumber return escapenumbere escapenumber else if p escapenumber return escapenumbere escapenumber else if p escapenumber return escapenumbere escapenumber else if qescapenumber escapenumber return escapenumbere escapenumber else if qescapenumber escapenumber return escapenumbere escapenumber else if qescapenumber escapenumber return escapenumbere escapenumber else return p sqrt qescapenumber oescapenumber qescapenumber uescapenumber escapenumber p v sqrt qescapenumber oescapenumber qescapenumber uescapenumber escapenumber v sqrt qescapenumber oescapenumber qescapenumber uescapenumber genoud myfunc nvars escapenumber max t pop size escapenumber starting values runif escapenumber wait gene rations escapenumber max generations escapenumber boundary enforcement escapenumber r help stat math ethz ch mailing list please do read the posting guide and provide commented minimal self contained reproducible code r help stat math ethz ch mailing list please do read the posting guide and provide commented minimal self contained reproducible code r help stat math ethz ch mailing list please do read the posting guide and provide commented minimal self contained reproducible code r help stat math ethz ch mailing list https stat ethz ch mailman listinfo r help please do read the posting guide http www r project org posting guide html and provide commented minimal self contained reproducible code\",\n          0\n        ],\n        \"semantic_type\": \"\",\n        \"description\": \"\"\n      }\n    }\n  ]\n}"
            }
          },
          "metadata": {},
          "execution_count": 7
        }
      ]
    },
    {
      "cell_type": "code",
      "source": [
        "# Convert DataFrame to Hugging Face Dataset\n",
        "dataset = Dataset.from_pandas(data)"
      ],
      "metadata": {
        "id": "y3ZfoZutA8HQ"
      },
      "execution_count": 8,
      "outputs": []
    },
    {
      "cell_type": "code",
      "source": [
        "dataset"
      ],
      "metadata": {
        "colab": {
          "base_uri": "https://localhost:8080/"
        },
        "id": "UETawH-uBviu",
        "outputId": "456ccc50-997a-4f3b-dd83-1379f233f4a5"
      },
      "execution_count": 9,
      "outputs": [
        {
          "output_type": "execute_result",
          "data": {
            "text/plain": [
              "Dataset({\n",
              "    features: ['label', 'text'],\n",
              "    num_rows: 83448\n",
              "})"
            ]
          },
          "metadata": {},
          "execution_count": 9
        }
      ]
    },
    {
      "cell_type": "code",
      "source": [
        "# Load the ALBERT tokenizer\n",
        "tokenizer = AutoTokenizer.from_pretrained(\"albert-base-v2\")"
      ],
      "metadata": {
        "id": "SVNtd7GcBwJR"
      },
      "execution_count": 10,
      "outputs": []
    },
    {
      "cell_type": "code",
      "source": [
        "# Tokenize the dataset\n",
        "def tokenize_function(examples):\n",
        "    return tokenizer(examples['text'], padding='max_length', truncation=True, max_length=128)"
      ],
      "metadata": {
        "id": "c9519Vu9Cjgj"
      },
      "execution_count": 11,
      "outputs": []
    },
    {
      "cell_type": "code",
      "source": [
        "tokenized_dataset = dataset.map(tokenize_function, batched=True)"
      ],
      "metadata": {
        "colab": {
          "base_uri": "https://localhost:8080/",
          "height": 49,
          "referenced_widgets": [
            "8b58b77841284a6ba5a2a4ab3186761d",
            "be51d424208b4c14a9df3214bbc1692b",
            "f28f786663424170ad438150dbb27a76",
            "eef12a1797794d13be109495dde32f0a",
            "bf393876e5df4c0eb455d0d27a6e9bbd",
            "093dcb0620074d0f98d10bf8667c5408",
            "ac7543925ca04a3bb78766a09ac74ce6",
            "ece3cb1720284a2092e8803bcab1c073",
            "cdc50261e28443238bc0610d0683e579",
            "b5c04272065e47f3a78def34e943f442",
            "d61dcc0f06a3491f9c7811d0cd3d6324"
          ]
        },
        "id": "wGtnVha9DJsX",
        "outputId": "7f889d1c-7790-4de4-9f0b-aa47461f4374"
      },
      "execution_count": 12,
      "outputs": [
        {
          "output_type": "display_data",
          "data": {
            "text/plain": [
              "Map:   0%|          | 0/83448 [00:00<?, ? examples/s]"
            ],
            "application/vnd.jupyter.widget-view+json": {
              "version_major": 2,
              "version_minor": 0,
              "model_id": "8b58b77841284a6ba5a2a4ab3186761d"
            }
          },
          "metadata": {}
        }
      ]
    },
    {
      "cell_type": "code",
      "source": [
        "# Split the dataset into train and test sets\n",
        "train_test_split = tokenized_dataset.train_test_split(test_size=0.6)\n",
        "train_dataset = train_test_split['train']\n",
        "test_dataset = train_test_split['test']\n",
        "\n",
        "train_eval_split = train_dataset.train_test_split(test_size=0.4)\n",
        "train_dataset = train_eval_split['train']\n",
        "eval_dataset = train_eval_split['test']"
      ],
      "metadata": {
        "id": "n7gqO3quDNSp"
      },
      "execution_count": 27,
      "outputs": []
    },
    {
      "cell_type": "code",
      "source": [
        "train_dataset"
      ],
      "metadata": {
        "colab": {
          "base_uri": "https://localhost:8080/"
        },
        "id": "9Gk4jJ70E0fL",
        "outputId": "fcf2ebb9-013a-4d08-fbe2-1f87e2520c4d"
      },
      "execution_count": 30,
      "outputs": [
        {
          "output_type": "execute_result",
          "data": {
            "text/plain": [
              "Dataset({\n",
              "    features: ['label', 'text', 'input_ids', 'token_type_ids', 'attention_mask'],\n",
              "    num_rows: 20027\n",
              "})"
            ]
          },
          "metadata": {},
          "execution_count": 30
        }
      ]
    },
    {
      "cell_type": "code",
      "source": [
        "# Load the ALBERT model\n",
        "model = AlbertForSequenceClassification.from_pretrained('albert-base-v2', num_labels=2)"
      ],
      "metadata": {
        "colab": {
          "base_uri": "https://localhost:8080/"
        },
        "id": "cI-38i9bEqeY",
        "outputId": "2c7e72a4-8fc8-48e8-d143-48d8d38b8c2b"
      },
      "execution_count": 31,
      "outputs": [
        {
          "output_type": "stream",
          "name": "stderr",
          "text": [
            "Some weights of AlbertForSequenceClassification were not initialized from the model checkpoint at albert-base-v2 and are newly initialized: ['classifier.bias', 'classifier.weight']\n",
            "You should probably TRAIN this model on a down-stream task to be able to use it for predictions and inference.\n"
          ]
        }
      ]
    },
    {
      "cell_type": "code",
      "source": [
        "# ## for Hyper-parameter tuning run OPTUNA\n",
        "# !pip install optuna\n",
        "\n",
        "# def objective(trial):\n",
        "#     # Define hyperparameters to search\n",
        "#     training_args = TrainingArguments(\n",
        "#         output_dir='./results',\n",
        "#         evaluation_strategy=\"epoch\",\n",
        "#         per_device_train_batch_size=trial.suggest_categorical('per_device_train_batch_size', [8, 16, 32]),\n",
        "#         per_device_eval_batch_size=trial.suggest_categorical('per_device_eval_batch_size', [8, 16, 32]),\n",
        "#         num_train_epochs=trial.suggest_int('num_train_epochs', 2, 5),\n",
        "#         learning_rate=trial.suggest_loguniform('learning_rate', 1e-5, 5e-5),\n",
        "#         weight_decay=trial.suggest_loguniform('weight_decay', 0.01, 0.3),\n",
        "#         logging_dir='./logs',\n",
        "#         load_best_model_at_end=True,\n",
        "#         metric_for_best_model='accuracy'\n",
        "#     )\n",
        "\n",
        "#     trainer = Trainer(\n",
        "#         model_init=model_init,\n",
        "#         args=training_args,\n",
        "#         train_dataset=train_dataset,\n",
        "#         eval_dataset=test_dataset,\n",
        "#         callbacks=[EarlyStoppingCallback(early_stopping_patience=3)]\n",
        "#     )\n",
        "\n",
        "#     # Train the model\n",
        "#     trainer.train()\n",
        "\n",
        "#     # Evaluate the model\n",
        "#     eval_result = trainer.evaluate()\n",
        "\n",
        "#     # The objective is to minimize the loss, return the appropriate metric\n",
        "#     return eval_result['eval_loss']\n",
        "\n",
        "\n",
        "# # Use Optuna to search for the best hyperparameters\n",
        "# study = optuna.create_study(direction='minimize')\n",
        "# study.optimize(objective, n_trials=20)\n",
        "\n",
        "# # Print the best hyperparameters found\n",
        "# print(\"Best hyperparameters: \", study.best_params)\n",
        "\n",
        "# # Train the final model with the best hyperparameters\n",
        "# best_params = study.best_params\n",
        "# training_args = TrainingArguments(\n",
        "#     output_dir='./results',\n",
        "#     evaluation_strategy=\"epoch\",\n",
        "#     per_device_train_batch_size=best_params['per_device_train_batch_size'],\n",
        "#     per_device_eval_batch_size=best_params['per_device_eval_batch_size'],\n",
        "#     num_train_epochs=best_params['num_train_epochs'],\n",
        "#     learning_rate=best_params['learning_rate'],\n",
        "#     weight_decay=best_params['weight_decay'],\n",
        "#     logging_dir='./logs',\n",
        "#     load_best_model_at_end=True,\n",
        "#     metric_for_best_model='accuracy'\n",
        "# )\n"
      ],
      "metadata": {
        "id": "Zkw1gqeJGK01"
      },
      "execution_count": 38,
      "outputs": []
    },
    {
      "cell_type": "code",
      "source": [
        "## If training_args code won't work, just install below libraries and restart the kernel\n",
        "# !pip install transformers[torch]\n",
        "# !pip install accelerate -U"
      ],
      "metadata": {
        "colab": {
          "base_uri": "https://localhost:8080/"
        },
        "collapsed": true,
        "id": "z9SbkyhUGkXC",
        "outputId": "bc530e0e-7d9e-464d-a0de-2ba612d0f8d5"
      },
      "execution_count": 39,
      "outputs": [
        {
          "output_type": "stream",
          "name": "stdout",
          "text": [
            "Requirement already satisfied: transformers[torch] in /usr/local/lib/python3.10/dist-packages (4.41.2)\n",
            "Requirement already satisfied: filelock in /usr/local/lib/python3.10/dist-packages (from transformers[torch]) (3.14.0)\n",
            "Requirement already satisfied: huggingface-hub<1.0,>=0.23.0 in /usr/local/lib/python3.10/dist-packages (from transformers[torch]) (0.23.3)\n",
            "Requirement already satisfied: numpy>=1.17 in /usr/local/lib/python3.10/dist-packages (from transformers[torch]) (1.25.2)\n",
            "Requirement already satisfied: packaging>=20.0 in /usr/local/lib/python3.10/dist-packages (from transformers[torch]) (24.1)\n",
            "Requirement already satisfied: pyyaml>=5.1 in /usr/local/lib/python3.10/dist-packages (from transformers[torch]) (6.0.1)\n",
            "Requirement already satisfied: regex!=2019.12.17 in /usr/local/lib/python3.10/dist-packages (from transformers[torch]) (2024.5.15)\n",
            "Requirement already satisfied: requests in /usr/local/lib/python3.10/dist-packages (from transformers[torch]) (2.32.3)\n",
            "Requirement already satisfied: tokenizers<0.20,>=0.19 in /usr/local/lib/python3.10/dist-packages (from transformers[torch]) (0.19.1)\n",
            "Requirement already satisfied: safetensors>=0.4.1 in /usr/local/lib/python3.10/dist-packages (from transformers[torch]) (0.4.3)\n",
            "Requirement already satisfied: tqdm>=4.27 in /usr/local/lib/python3.10/dist-packages (from transformers[torch]) (4.66.4)\n",
            "Requirement already satisfied: torch in /usr/local/lib/python3.10/dist-packages (from transformers[torch]) (2.3.0+cu121)\n",
            "Collecting accelerate>=0.21.0 (from transformers[torch])\n",
            "  Downloading accelerate-0.31.0-py3-none-any.whl (309 kB)\n",
            "\u001b[2K     \u001b[90m━━━━━━━━━━━━━━━━━━━━━━━━━━━━━━━━━━━━━━━━\u001b[0m \u001b[32m309.4/309.4 kB\u001b[0m \u001b[31m5.9 MB/s\u001b[0m eta \u001b[36m0:00:00\u001b[0m\n",
            "\u001b[?25hRequirement already satisfied: psutil in /usr/local/lib/python3.10/dist-packages (from accelerate>=0.21.0->transformers[torch]) (5.9.5)\n",
            "Requirement already satisfied: fsspec>=2023.5.0 in /usr/local/lib/python3.10/dist-packages (from huggingface-hub<1.0,>=0.23.0->transformers[torch]) (2023.6.0)\n",
            "Requirement already satisfied: typing-extensions>=3.7.4.3 in /usr/local/lib/python3.10/dist-packages (from huggingface-hub<1.0,>=0.23.0->transformers[torch]) (4.12.2)\n",
            "Requirement already satisfied: sympy in /usr/local/lib/python3.10/dist-packages (from torch->transformers[torch]) (1.12.1)\n",
            "Requirement already satisfied: networkx in /usr/local/lib/python3.10/dist-packages (from torch->transformers[torch]) (3.3)\n",
            "Requirement already satisfied: jinja2 in /usr/local/lib/python3.10/dist-packages (from torch->transformers[torch]) (3.1.4)\n",
            "Collecting nvidia-cuda-nvrtc-cu12==12.1.105 (from torch->transformers[torch])\n",
            "  Using cached nvidia_cuda_nvrtc_cu12-12.1.105-py3-none-manylinux1_x86_64.whl (23.7 MB)\n",
            "Collecting nvidia-cuda-runtime-cu12==12.1.105 (from torch->transformers[torch])\n",
            "  Using cached nvidia_cuda_runtime_cu12-12.1.105-py3-none-manylinux1_x86_64.whl (823 kB)\n",
            "Collecting nvidia-cuda-cupti-cu12==12.1.105 (from torch->transformers[torch])\n",
            "  Using cached nvidia_cuda_cupti_cu12-12.1.105-py3-none-manylinux1_x86_64.whl (14.1 MB)\n",
            "Collecting nvidia-cudnn-cu12==8.9.2.26 (from torch->transformers[torch])\n",
            "  Using cached nvidia_cudnn_cu12-8.9.2.26-py3-none-manylinux1_x86_64.whl (731.7 MB)\n",
            "Collecting nvidia-cublas-cu12==12.1.3.1 (from torch->transformers[torch])\n",
            "  Using cached nvidia_cublas_cu12-12.1.3.1-py3-none-manylinux1_x86_64.whl (410.6 MB)\n",
            "Collecting nvidia-cufft-cu12==11.0.2.54 (from torch->transformers[torch])\n",
            "  Using cached nvidia_cufft_cu12-11.0.2.54-py3-none-manylinux1_x86_64.whl (121.6 MB)\n",
            "Collecting nvidia-curand-cu12==10.3.2.106 (from torch->transformers[torch])\n",
            "  Using cached nvidia_curand_cu12-10.3.2.106-py3-none-manylinux1_x86_64.whl (56.5 MB)\n",
            "Collecting nvidia-cusolver-cu12==11.4.5.107 (from torch->transformers[torch])\n",
            "  Using cached nvidia_cusolver_cu12-11.4.5.107-py3-none-manylinux1_x86_64.whl (124.2 MB)\n",
            "Collecting nvidia-cusparse-cu12==12.1.0.106 (from torch->transformers[torch])\n",
            "  Using cached nvidia_cusparse_cu12-12.1.0.106-py3-none-manylinux1_x86_64.whl (196.0 MB)\n",
            "Collecting nvidia-nccl-cu12==2.20.5 (from torch->transformers[torch])\n",
            "  Using cached nvidia_nccl_cu12-2.20.5-py3-none-manylinux2014_x86_64.whl (176.2 MB)\n",
            "Collecting nvidia-nvtx-cu12==12.1.105 (from torch->transformers[torch])\n",
            "  Using cached nvidia_nvtx_cu12-12.1.105-py3-none-manylinux1_x86_64.whl (99 kB)\n",
            "Requirement already satisfied: triton==2.3.0 in /usr/local/lib/python3.10/dist-packages (from torch->transformers[torch]) (2.3.0)\n",
            "Collecting nvidia-nvjitlink-cu12 (from nvidia-cusolver-cu12==11.4.5.107->torch->transformers[torch])\n",
            "  Downloading nvidia_nvjitlink_cu12-12.5.40-py3-none-manylinux2014_x86_64.whl (21.3 MB)\n",
            "\u001b[2K     \u001b[90m━━━━━━━━━━━━━━━━━━━━━━━━━━━━━━━━━━━━━━━━\u001b[0m \u001b[32m21.3/21.3 MB\u001b[0m \u001b[31m56.2 MB/s\u001b[0m eta \u001b[36m0:00:00\u001b[0m\n",
            "\u001b[?25hRequirement already satisfied: charset-normalizer<4,>=2 in /usr/local/lib/python3.10/dist-packages (from requests->transformers[torch]) (3.3.2)\n",
            "Requirement already satisfied: idna<4,>=2.5 in /usr/local/lib/python3.10/dist-packages (from requests->transformers[torch]) (3.7)\n",
            "Requirement already satisfied: urllib3<3,>=1.21.1 in /usr/local/lib/python3.10/dist-packages (from requests->transformers[torch]) (2.0.7)\n",
            "Requirement already satisfied: certifi>=2017.4.17 in /usr/local/lib/python3.10/dist-packages (from requests->transformers[torch]) (2024.6.2)\n",
            "Requirement already satisfied: MarkupSafe>=2.0 in /usr/local/lib/python3.10/dist-packages (from jinja2->torch->transformers[torch]) (2.1.5)\n",
            "Requirement already satisfied: mpmath<1.4.0,>=1.1.0 in /usr/local/lib/python3.10/dist-packages (from sympy->torch->transformers[torch]) (1.3.0)\n",
            "Installing collected packages: nvidia-nvtx-cu12, nvidia-nvjitlink-cu12, nvidia-nccl-cu12, nvidia-curand-cu12, nvidia-cufft-cu12, nvidia-cuda-runtime-cu12, nvidia-cuda-nvrtc-cu12, nvidia-cuda-cupti-cu12, nvidia-cublas-cu12, nvidia-cusparse-cu12, nvidia-cudnn-cu12, nvidia-cusolver-cu12, accelerate\n",
            "Successfully installed accelerate-0.31.0 nvidia-cublas-cu12-12.1.3.1 nvidia-cuda-cupti-cu12-12.1.105 nvidia-cuda-nvrtc-cu12-12.1.105 nvidia-cuda-runtime-cu12-12.1.105 nvidia-cudnn-cu12-8.9.2.26 nvidia-cufft-cu12-11.0.2.54 nvidia-curand-cu12-10.3.2.106 nvidia-cusolver-cu12-11.4.5.107 nvidia-cusparse-cu12-12.1.0.106 nvidia-nccl-cu12-2.20.5 nvidia-nvjitlink-cu12-12.5.40 nvidia-nvtx-cu12-12.1.105\n",
            "Requirement already satisfied: accelerate in /usr/local/lib/python3.10/dist-packages (0.31.0)\n",
            "Requirement already satisfied: numpy>=1.17 in /usr/local/lib/python3.10/dist-packages (from accelerate) (1.25.2)\n",
            "Requirement already satisfied: packaging>=20.0 in /usr/local/lib/python3.10/dist-packages (from accelerate) (24.1)\n",
            "Requirement already satisfied: psutil in /usr/local/lib/python3.10/dist-packages (from accelerate) (5.9.5)\n",
            "Requirement already satisfied: pyyaml in /usr/local/lib/python3.10/dist-packages (from accelerate) (6.0.1)\n",
            "Requirement already satisfied: torch>=1.10.0 in /usr/local/lib/python3.10/dist-packages (from accelerate) (2.3.0+cu121)\n",
            "Requirement already satisfied: huggingface-hub in /usr/local/lib/python3.10/dist-packages (from accelerate) (0.23.3)\n",
            "Requirement already satisfied: safetensors>=0.3.1 in /usr/local/lib/python3.10/dist-packages (from accelerate) (0.4.3)\n",
            "Requirement already satisfied: filelock in /usr/local/lib/python3.10/dist-packages (from torch>=1.10.0->accelerate) (3.14.0)\n",
            "Requirement already satisfied: typing-extensions>=4.8.0 in /usr/local/lib/python3.10/dist-packages (from torch>=1.10.0->accelerate) (4.12.2)\n",
            "Requirement already satisfied: sympy in /usr/local/lib/python3.10/dist-packages (from torch>=1.10.0->accelerate) (1.12.1)\n",
            "Requirement already satisfied: networkx in /usr/local/lib/python3.10/dist-packages (from torch>=1.10.0->accelerate) (3.3)\n",
            "Requirement already satisfied: jinja2 in /usr/local/lib/python3.10/dist-packages (from torch>=1.10.0->accelerate) (3.1.4)\n",
            "Requirement already satisfied: fsspec in /usr/local/lib/python3.10/dist-packages (from torch>=1.10.0->accelerate) (2023.6.0)\n",
            "Requirement already satisfied: nvidia-cuda-nvrtc-cu12==12.1.105 in /usr/local/lib/python3.10/dist-packages (from torch>=1.10.0->accelerate) (12.1.105)\n",
            "Requirement already satisfied: nvidia-cuda-runtime-cu12==12.1.105 in /usr/local/lib/python3.10/dist-packages (from torch>=1.10.0->accelerate) (12.1.105)\n",
            "Requirement already satisfied: nvidia-cuda-cupti-cu12==12.1.105 in /usr/local/lib/python3.10/dist-packages (from torch>=1.10.0->accelerate) (12.1.105)\n",
            "Requirement already satisfied: nvidia-cudnn-cu12==8.9.2.26 in /usr/local/lib/python3.10/dist-packages (from torch>=1.10.0->accelerate) (8.9.2.26)\n",
            "Requirement already satisfied: nvidia-cublas-cu12==12.1.3.1 in /usr/local/lib/python3.10/dist-packages (from torch>=1.10.0->accelerate) (12.1.3.1)\n",
            "Requirement already satisfied: nvidia-cufft-cu12==11.0.2.54 in /usr/local/lib/python3.10/dist-packages (from torch>=1.10.0->accelerate) (11.0.2.54)\n",
            "Requirement already satisfied: nvidia-curand-cu12==10.3.2.106 in /usr/local/lib/python3.10/dist-packages (from torch>=1.10.0->accelerate) (10.3.2.106)\n",
            "Requirement already satisfied: nvidia-cusolver-cu12==11.4.5.107 in /usr/local/lib/python3.10/dist-packages (from torch>=1.10.0->accelerate) (11.4.5.107)\n",
            "Requirement already satisfied: nvidia-cusparse-cu12==12.1.0.106 in /usr/local/lib/python3.10/dist-packages (from torch>=1.10.0->accelerate) (12.1.0.106)\n",
            "Requirement already satisfied: nvidia-nccl-cu12==2.20.5 in /usr/local/lib/python3.10/dist-packages (from torch>=1.10.0->accelerate) (2.20.5)\n",
            "Requirement already satisfied: nvidia-nvtx-cu12==12.1.105 in /usr/local/lib/python3.10/dist-packages (from torch>=1.10.0->accelerate) (12.1.105)\n",
            "Requirement already satisfied: triton==2.3.0 in /usr/local/lib/python3.10/dist-packages (from torch>=1.10.0->accelerate) (2.3.0)\n",
            "Requirement already satisfied: nvidia-nvjitlink-cu12 in /usr/local/lib/python3.10/dist-packages (from nvidia-cusolver-cu12==11.4.5.107->torch>=1.10.0->accelerate) (12.5.40)\n",
            "Requirement already satisfied: requests in /usr/local/lib/python3.10/dist-packages (from huggingface-hub->accelerate) (2.32.3)\n",
            "Requirement already satisfied: tqdm>=4.42.1 in /usr/local/lib/python3.10/dist-packages (from huggingface-hub->accelerate) (4.66.4)\n",
            "Requirement already satisfied: MarkupSafe>=2.0 in /usr/local/lib/python3.10/dist-packages (from jinja2->torch>=1.10.0->accelerate) (2.1.5)\n",
            "Requirement already satisfied: charset-normalizer<4,>=2 in /usr/local/lib/python3.10/dist-packages (from requests->huggingface-hub->accelerate) (3.3.2)\n",
            "Requirement already satisfied: idna<4,>=2.5 in /usr/local/lib/python3.10/dist-packages (from requests->huggingface-hub->accelerate) (3.7)\n",
            "Requirement already satisfied: urllib3<3,>=1.21.1 in /usr/local/lib/python3.10/dist-packages (from requests->huggingface-hub->accelerate) (2.0.7)\n",
            "Requirement already satisfied: certifi>=2017.4.17 in /usr/local/lib/python3.10/dist-packages (from requests->huggingface-hub->accelerate) (2024.6.2)\n",
            "Requirement already satisfied: mpmath<1.4.0,>=1.1.0 in /usr/local/lib/python3.10/dist-packages (from sympy->torch>=1.10.0->accelerate) (1.3.0)\n"
          ]
        }
      ]
    },
    {
      "cell_type": "code",
      "source": [
        "# Define training arguments\n",
        "training_args = TrainingArguments(\n",
        "    output_dir='./results',\n",
        "    evaluation_strategy=\"epoch\",\n",
        "    per_device_train_batch_size=16,\n",
        "    per_device_eval_batch_size=16,\n",
        "    num_train_epochs=3,\n",
        "    weight_decay=0.01,\n",
        "    logging_dir='./logs',\n",
        ")"
      ],
      "metadata": {
        "id": "wLRC0wlHEuoL"
      },
      "execution_count": 16,
      "outputs": []
    },
    {
      "cell_type": "code",
      "source": [
        "# Define the trainer\n",
        "trainer = Trainer(\n",
        "    model=model,\n",
        "    args=training_args,\n",
        "    train_dataset=train_dataset,\n",
        "    eval_dataset=eval_dataset,\n",
        ")"
      ],
      "metadata": {
        "id": "sujunEwJFlGr"
      },
      "execution_count": 32,
      "outputs": []
    },
    {
      "cell_type": "code",
      "source": [
        "# Train the model\n",
        "trainer.train()"
      ],
      "metadata": {
        "colab": {
          "base_uri": "https://localhost:8080/",
          "height": 362
        },
        "collapsed": true,
        "id": "2jytZCecOe5F",
        "outputId": "ce48e552-8f22-4fcb-fcc2-0ba70a6f6d4c"
      },
      "execution_count": 33,
      "outputs": [
        {
          "output_type": "display_data",
          "data": {
            "text/plain": [
              "<IPython.core.display.HTML object>"
            ],
            "text/html": [
              "\n",
              "    <div>\n",
              "      \n",
              "      <progress value='3' max='3756' style='width:300px; height:20px; vertical-align: middle;'></progress>\n",
              "      [   3/3756 00:25 < 26:34:22, 0.04 it/s, Epoch 0.00/3]\n",
              "    </div>\n",
              "    <table border=\"1\" class=\"dataframe\">\n",
              "  <thead>\n",
              " <tr style=\"text-align: left;\">\n",
              "      <th>Epoch</th>\n",
              "      <th>Training Loss</th>\n",
              "      <th>Validation Loss</th>\n",
              "    </tr>\n",
              "  </thead>\n",
              "  <tbody>\n",
              "  </tbody>\n",
              "</table><p>"
            ]
          },
          "metadata": {}
        },
        {
          "output_type": "error",
          "ename": "KeyboardInterrupt",
          "evalue": "",
          "traceback": [
            "\u001b[0;31m---------------------------------------------------------------------------\u001b[0m",
            "\u001b[0;31mKeyboardInterrupt\u001b[0m                         Traceback (most recent call last)",
            "\u001b[0;32m<ipython-input-33-e5e6b3b9574e>\u001b[0m in \u001b[0;36m<cell line: 2>\u001b[0;34m()\u001b[0m\n\u001b[1;32m      1\u001b[0m \u001b[0;31m# Train the model\u001b[0m\u001b[0;34m\u001b[0m\u001b[0;34m\u001b[0m\u001b[0m\n\u001b[0;32m----> 2\u001b[0;31m \u001b[0mtrainer\u001b[0m\u001b[0;34m.\u001b[0m\u001b[0mtrain\u001b[0m\u001b[0;34m(\u001b[0m\u001b[0;34m)\u001b[0m\u001b[0;34m\u001b[0m\u001b[0;34m\u001b[0m\u001b[0m\n\u001b[0m",
            "\u001b[0;32m/usr/local/lib/python3.10/dist-packages/transformers/trainer.py\u001b[0m in \u001b[0;36mtrain\u001b[0;34m(self, resume_from_checkpoint, trial, ignore_keys_for_eval, **kwargs)\u001b[0m\n\u001b[1;32m   1883\u001b[0m                 \u001b[0mhf_hub_utils\u001b[0m\u001b[0;34m.\u001b[0m\u001b[0menable_progress_bars\u001b[0m\u001b[0;34m(\u001b[0m\u001b[0;34m)\u001b[0m\u001b[0;34m\u001b[0m\u001b[0;34m\u001b[0m\u001b[0m\n\u001b[1;32m   1884\u001b[0m         \u001b[0;32melse\u001b[0m\u001b[0;34m:\u001b[0m\u001b[0;34m\u001b[0m\u001b[0;34m\u001b[0m\u001b[0m\n\u001b[0;32m-> 1885\u001b[0;31m             return inner_training_loop(\n\u001b[0m\u001b[1;32m   1886\u001b[0m                 \u001b[0margs\u001b[0m\u001b[0;34m=\u001b[0m\u001b[0margs\u001b[0m\u001b[0;34m,\u001b[0m\u001b[0;34m\u001b[0m\u001b[0;34m\u001b[0m\u001b[0m\n\u001b[1;32m   1887\u001b[0m                 \u001b[0mresume_from_checkpoint\u001b[0m\u001b[0;34m=\u001b[0m\u001b[0mresume_from_checkpoint\u001b[0m\u001b[0;34m,\u001b[0m\u001b[0;34m\u001b[0m\u001b[0;34m\u001b[0m\u001b[0m\n",
            "\u001b[0;32m/usr/local/lib/python3.10/dist-packages/transformers/trainer.py\u001b[0m in \u001b[0;36m_inner_training_loop\u001b[0;34m(self, batch_size, args, resume_from_checkpoint, trial, ignore_keys_for_eval)\u001b[0m\n\u001b[1;32m   2214\u001b[0m \u001b[0;34m\u001b[0m\u001b[0m\n\u001b[1;32m   2215\u001b[0m                 \u001b[0;32mwith\u001b[0m \u001b[0mself\u001b[0m\u001b[0;34m.\u001b[0m\u001b[0maccelerator\u001b[0m\u001b[0;34m.\u001b[0m\u001b[0maccumulate\u001b[0m\u001b[0;34m(\u001b[0m\u001b[0mmodel\u001b[0m\u001b[0;34m)\u001b[0m\u001b[0;34m:\u001b[0m\u001b[0;34m\u001b[0m\u001b[0;34m\u001b[0m\u001b[0m\n\u001b[0;32m-> 2216\u001b[0;31m                     \u001b[0mtr_loss_step\u001b[0m \u001b[0;34m=\u001b[0m \u001b[0mself\u001b[0m\u001b[0;34m.\u001b[0m\u001b[0mtraining_step\u001b[0m\u001b[0;34m(\u001b[0m\u001b[0mmodel\u001b[0m\u001b[0;34m,\u001b[0m \u001b[0minputs\u001b[0m\u001b[0;34m)\u001b[0m\u001b[0;34m\u001b[0m\u001b[0;34m\u001b[0m\u001b[0m\n\u001b[0m\u001b[1;32m   2217\u001b[0m \u001b[0;34m\u001b[0m\u001b[0m\n\u001b[1;32m   2218\u001b[0m                 if (\n",
            "\u001b[0;32m/usr/local/lib/python3.10/dist-packages/transformers/trainer.py\u001b[0m in \u001b[0;36mtraining_step\u001b[0;34m(***failed resolving arguments***)\u001b[0m\n\u001b[1;32m   3248\u001b[0m                 \u001b[0mscaled_loss\u001b[0m\u001b[0;34m.\u001b[0m\u001b[0mbackward\u001b[0m\u001b[0;34m(\u001b[0m\u001b[0;34m)\u001b[0m\u001b[0;34m\u001b[0m\u001b[0;34m\u001b[0m\u001b[0m\n\u001b[1;32m   3249\u001b[0m         \u001b[0;32melse\u001b[0m\u001b[0;34m:\u001b[0m\u001b[0;34m\u001b[0m\u001b[0;34m\u001b[0m\u001b[0m\n\u001b[0;32m-> 3250\u001b[0;31m             \u001b[0mself\u001b[0m\u001b[0;34m.\u001b[0m\u001b[0maccelerator\u001b[0m\u001b[0;34m.\u001b[0m\u001b[0mbackward\u001b[0m\u001b[0;34m(\u001b[0m\u001b[0mloss\u001b[0m\u001b[0;34m)\u001b[0m\u001b[0;34m\u001b[0m\u001b[0;34m\u001b[0m\u001b[0m\n\u001b[0m\u001b[1;32m   3251\u001b[0m \u001b[0;34m\u001b[0m\u001b[0m\n\u001b[1;32m   3252\u001b[0m         \u001b[0;32mreturn\u001b[0m \u001b[0mloss\u001b[0m\u001b[0;34m.\u001b[0m\u001b[0mdetach\u001b[0m\u001b[0;34m(\u001b[0m\u001b[0;34m)\u001b[0m \u001b[0;34m/\u001b[0m \u001b[0mself\u001b[0m\u001b[0;34m.\u001b[0m\u001b[0margs\u001b[0m\u001b[0;34m.\u001b[0m\u001b[0mgradient_accumulation_steps\u001b[0m\u001b[0;34m\u001b[0m\u001b[0;34m\u001b[0m\u001b[0m\n",
            "\u001b[0;32m/usr/local/lib/python3.10/dist-packages/accelerate/accelerator.py\u001b[0m in \u001b[0;36mbackward\u001b[0;34m(self, loss, **kwargs)\u001b[0m\n\u001b[1;32m   2132\u001b[0m             \u001b[0mself\u001b[0m\u001b[0;34m.\u001b[0m\u001b[0mlomo_backward\u001b[0m\u001b[0;34m(\u001b[0m\u001b[0mloss\u001b[0m\u001b[0;34m,\u001b[0m \u001b[0mlearning_rate\u001b[0m\u001b[0;34m)\u001b[0m\u001b[0;34m\u001b[0m\u001b[0;34m\u001b[0m\u001b[0m\n\u001b[1;32m   2133\u001b[0m         \u001b[0;32melse\u001b[0m\u001b[0;34m:\u001b[0m\u001b[0;34m\u001b[0m\u001b[0;34m\u001b[0m\u001b[0m\n\u001b[0;32m-> 2134\u001b[0;31m             \u001b[0mloss\u001b[0m\u001b[0;34m.\u001b[0m\u001b[0mbackward\u001b[0m\u001b[0;34m(\u001b[0m\u001b[0;34m**\u001b[0m\u001b[0mkwargs\u001b[0m\u001b[0;34m)\u001b[0m\u001b[0;34m\u001b[0m\u001b[0;34m\u001b[0m\u001b[0m\n\u001b[0m\u001b[1;32m   2135\u001b[0m \u001b[0;34m\u001b[0m\u001b[0m\n\u001b[1;32m   2136\u001b[0m     \u001b[0;32mdef\u001b[0m \u001b[0mset_trigger\u001b[0m\u001b[0;34m(\u001b[0m\u001b[0mself\u001b[0m\u001b[0;34m)\u001b[0m\u001b[0;34m:\u001b[0m\u001b[0;34m\u001b[0m\u001b[0;34m\u001b[0m\u001b[0m\n",
            "\u001b[0;32m/usr/local/lib/python3.10/dist-packages/torch/_tensor.py\u001b[0m in \u001b[0;36mbackward\u001b[0;34m(self, gradient, retain_graph, create_graph, inputs)\u001b[0m\n\u001b[1;32m    523\u001b[0m                 \u001b[0minputs\u001b[0m\u001b[0;34m=\u001b[0m\u001b[0minputs\u001b[0m\u001b[0;34m,\u001b[0m\u001b[0;34m\u001b[0m\u001b[0;34m\u001b[0m\u001b[0m\n\u001b[1;32m    524\u001b[0m             )\n\u001b[0;32m--> 525\u001b[0;31m         torch.autograd.backward(\n\u001b[0m\u001b[1;32m    526\u001b[0m             \u001b[0mself\u001b[0m\u001b[0;34m,\u001b[0m \u001b[0mgradient\u001b[0m\u001b[0;34m,\u001b[0m \u001b[0mretain_graph\u001b[0m\u001b[0;34m,\u001b[0m \u001b[0mcreate_graph\u001b[0m\u001b[0;34m,\u001b[0m \u001b[0minputs\u001b[0m\u001b[0;34m=\u001b[0m\u001b[0minputs\u001b[0m\u001b[0;34m\u001b[0m\u001b[0;34m\u001b[0m\u001b[0m\n\u001b[1;32m    527\u001b[0m         )\n",
            "\u001b[0;32m/usr/local/lib/python3.10/dist-packages/torch/autograd/__init__.py\u001b[0m in \u001b[0;36mbackward\u001b[0;34m(tensors, grad_tensors, retain_graph, create_graph, grad_variables, inputs)\u001b[0m\n\u001b[1;32m    265\u001b[0m     \u001b[0;31m# some Python versions print out the first line of a multi-line function\u001b[0m\u001b[0;34m\u001b[0m\u001b[0;34m\u001b[0m\u001b[0m\n\u001b[1;32m    266\u001b[0m     \u001b[0;31m# calls in the traceback and some print out the last line\u001b[0m\u001b[0;34m\u001b[0m\u001b[0;34m\u001b[0m\u001b[0m\n\u001b[0;32m--> 267\u001b[0;31m     _engine_run_backward(\n\u001b[0m\u001b[1;32m    268\u001b[0m         \u001b[0mtensors\u001b[0m\u001b[0;34m,\u001b[0m\u001b[0;34m\u001b[0m\u001b[0;34m\u001b[0m\u001b[0m\n\u001b[1;32m    269\u001b[0m         \u001b[0mgrad_tensors_\u001b[0m\u001b[0;34m,\u001b[0m\u001b[0;34m\u001b[0m\u001b[0;34m\u001b[0m\u001b[0m\n",
            "\u001b[0;32m/usr/local/lib/python3.10/dist-packages/torch/autograd/graph.py\u001b[0m in \u001b[0;36m_engine_run_backward\u001b[0;34m(t_outputs, *args, **kwargs)\u001b[0m\n\u001b[1;32m    742\u001b[0m         \u001b[0munregister_hooks\u001b[0m \u001b[0;34m=\u001b[0m \u001b[0m_register_logging_hooks_on_whole_graph\u001b[0m\u001b[0;34m(\u001b[0m\u001b[0mt_outputs\u001b[0m\u001b[0;34m)\u001b[0m\u001b[0;34m\u001b[0m\u001b[0;34m\u001b[0m\u001b[0m\n\u001b[1;32m    743\u001b[0m     \u001b[0;32mtry\u001b[0m\u001b[0;34m:\u001b[0m\u001b[0;34m\u001b[0m\u001b[0;34m\u001b[0m\u001b[0m\n\u001b[0;32m--> 744\u001b[0;31m         return Variable._execution_engine.run_backward(  # Calls into the C++ engine to run the backward pass\n\u001b[0m\u001b[1;32m    745\u001b[0m             \u001b[0mt_outputs\u001b[0m\u001b[0;34m,\u001b[0m \u001b[0;34m*\u001b[0m\u001b[0margs\u001b[0m\u001b[0;34m,\u001b[0m \u001b[0;34m**\u001b[0m\u001b[0mkwargs\u001b[0m\u001b[0;34m\u001b[0m\u001b[0;34m\u001b[0m\u001b[0m\n\u001b[1;32m    746\u001b[0m         )  # Calls into the C++ engine to run the backward pass\n",
            "\u001b[0;31mKeyboardInterrupt\u001b[0m: "
          ]
        }
      ]
    },
    {
      "cell_type": "code",
      "source": [
        "# Evaluate the model\n",
        "results = trainer.evaluate()\n",
        "print(f\"Evaluation results: {results}\")\n",
        "trainer.save_model()\n",
        "# trainer.push_to_hub()"
      ],
      "metadata": {
        "id": "m4TjJq7kOhC7"
      },
      "execution_count": null,
      "outputs": []
    },
    {
      "cell_type": "code",
      "source": [
        "# Get predictions on the validation set\n",
        "predictions = trainer.predict(test_dataset)\n",
        "preds = np.argmax(predictions.predictions, axis=-1)\n",
        "labels = predictions.label_ids"
      ],
      "metadata": {
        "id": "OfWOb_dVPia_"
      },
      "execution_count": null,
      "outputs": []
    },
    {
      "cell_type": "code",
      "source": [
        "from sklearn.metrics import precision_score, recall_score, f1_score, roc_auc_score, confusion_matrix, accuracy_score\n",
        "\n",
        "# Compute metrics\n",
        "accuracy = accuracy_score(labels, preds)\n",
        "precision = precision_score(labels, preds, average='binary')\n",
        "recall = recall_score(labels, preds, average='binary')\n",
        "f1 = f1_score(labels, preds, average='binary')\n",
        "roc_auc = roc_auc_score(labels, preds)\n",
        "conf_matrix = confusion_matrix(labels, preds)\n",
        "\n",
        "# Print metrics\n",
        "print(f\"Accuracy: {accuracy:.4f}\")\n",
        "print(f\"Precision: {precision:.4f}\")\n",
        "print(f\"Recall: {recall:.4f}\")\n",
        "print(f\"F1 Score: {f1:.4f}\")\n",
        "print(f\"ROC-AUC Score: {roc_auc:.4f}\")\n",
        "print(f\"Confusion Matrix:\\n {conf_matrix}\")"
      ],
      "metadata": {
        "id": "mmQ7P2PyPuo5"
      },
      "execution_count": null,
      "outputs": []
    },
    {
      "cell_type": "code",
      "source": [
        "# Example texts for prediction\n",
        "texts = [\"Call me on this message for winning a $100 price money.\", \"You phone recharge is due. Please recharge soon.\"]\n",
        "\n",
        "# Tokenize the texts\n",
        "tokenized_texts = tokenizer(texts, padding=True, truncation=True, max_length=128, return_tensors=\"pt\")\n",
        "\n",
        "# Make predictions\n",
        "model.eval()  # Set the model to evaluation mode\n",
        "with torch.no_grad():\n",
        "    outputs = model(**tokenized_texts)\n",
        "\n",
        "# Convert logits to probabilities\n",
        "probs = torch.nn.functional.softmax(outputs.logits, dim=1)\n",
        "\n",
        "# Get predicted class\n",
        "predicted_class = probs.argmax(dim=1)\n",
        "print(f\"Predicted class: {predicted_class}\")"
      ],
      "metadata": {
        "id": "DSVgYQHUO6Qh"
      },
      "execution_count": null,
      "outputs": []
    },
    {
      "cell_type": "code",
      "source": [
        "!git status"
      ],
      "metadata": {
        "colab": {
          "base_uri": "https://localhost:8080/"
        },
        "id": "1S6c0IyRR4zs",
        "outputId": "bc869299-5884-43a8-ec21-e77269dca91e"
      },
      "execution_count": 1,
      "outputs": [
        {
          "output_type": "stream",
          "name": "stdout",
          "text": [
            "fatal: not a git repository (or any of the parent directories): .git\n"
          ]
        }
      ]
    },
    {
      "cell_type": "code",
      "source": [
        "!apt-get install git"
      ],
      "metadata": {
        "colab": {
          "base_uri": "https://localhost:8080/"
        },
        "id": "xbVHXSxbR8y5",
        "outputId": "ffe59215-9618-4a73-e379-1d0da13ffa26"
      },
      "execution_count": 2,
      "outputs": [
        {
          "output_type": "stream",
          "name": "stdout",
          "text": [
            "Reading package lists... Done\n",
            "Building dependency tree... Done\n",
            "Reading state information... Done\n",
            "git is already the newest version (1:2.34.1-1ubuntu1.11).\n",
            "0 upgraded, 0 newly installed, 0 to remove and 45 not upgraded.\n"
          ]
        }
      ]
    },
    {
      "cell_type": "code",
      "source": [
        "!git clone https://github.com/shekhawatmeenu18/NLP_Projects.git"
      ],
      "metadata": {
        "colab": {
          "base_uri": "https://localhost:8080/"
        },
        "id": "ajFGgloyR_4W",
        "outputId": "8ccd6cfa-7425-4d45-caac-2eb3aaffaec3"
      },
      "execution_count": 3,
      "outputs": [
        {
          "output_type": "stream",
          "name": "stdout",
          "text": [
            "Cloning into 'NLP_Projects'...\n",
            "remote: Enumerating objects: 22, done.\u001b[K\n",
            "remote: Counting objects: 100% (22/22), done.\u001b[K\n",
            "remote: Compressing objects: 100% (20/20), done.\u001b[K\n",
            "remote: Total 22 (delta 6), reused 0 (delta 0), pack-reused 0\u001b[K\n",
            "Receiving objects: 100% (22/22), 39.22 KiB | 2.61 MiB/s, done.\n",
            "Resolving deltas: 100% (6/6), done.\n"
          ]
        }
      ]
    },
    {
      "cell_type": "code",
      "source": [
        "%cd NLP_Projects"
      ],
      "metadata": {
        "colab": {
          "base_uri": "https://localhost:8080/"
        },
        "id": "GhNpnUoTSU7m",
        "outputId": "9703f900-75ae-4168-f13b-7df3957cc57f"
      },
      "execution_count": 5,
      "outputs": [
        {
          "output_type": "stream",
          "name": "stdout",
          "text": [
            "/content/NLP_Projects\n"
          ]
        }
      ]
    },
    {
      "cell_type": "code",
      "source": [
        "# Configure Git with your name and email\n",
        "!git config --global user.name \"shekhawatmeenu18\"\n",
        "!git config --global user.email \"shekhawatmeenu18@gmail.com\""
      ],
      "metadata": {
        "id": "lB2yfjOBSYeq"
      },
      "execution_count": 6,
      "outputs": []
    },
    {
      "cell_type": "code",
      "source": [
        "!git status"
      ],
      "metadata": {
        "colab": {
          "base_uri": "https://localhost:8080/"
        },
        "id": "O2swXw3KSnpp",
        "outputId": "1330057c-3a75-49bd-dfc6-65c438bdaac8"
      },
      "execution_count": 7,
      "outputs": [
        {
          "output_type": "stream",
          "name": "stdout",
          "text": [
            "On branch main\n",
            "Your branch is up to date with 'origin/main'.\n",
            "\n",
            "nothing to commit, working tree clean\n"
          ]
        }
      ]
    },
    {
      "cell_type": "code",
      "source": [],
      "metadata": {
        "id": "VWiy9EfnSpwt"
      },
      "execution_count": null,
      "outputs": []
    }
  ]
}